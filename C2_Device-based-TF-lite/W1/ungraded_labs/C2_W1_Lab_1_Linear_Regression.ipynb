{
  "cells": [
    {
      "cell_type": "markdown",
      "metadata": {
        "colab_type": "text",
        "id": "view-in-github"
      },
      "source": [
        "<a href=\"https://colab.research.google.com/github/https-deeplearning-ai/tensorflow-2-public/blob/adding_C2/C2/W1/ungraded_labs/C2_W1_Lab_1_Linear_Regression.ipynb\" target=\"_parent\"><img src=\"https://colab.research.google.com/assets/colab-badge.svg\" alt=\"Open In Colab\"/></a>"
      ]
    },
    {
      "cell_type": "code",
      "execution_count": null,
      "metadata": {
        "id": "zX4Kg8DUTKWO"
      },
      "outputs": [],
      "source": [
        "#@title Licensed under the Apache License, Version 2.0 (the \"License\");\n",
        "# you may not use this file except in compliance with the License.\n",
        "# You may obtain a copy of the License at\n",
        "#\n",
        "# https://www.apache.org/licenses/LICENSE-2.0\n",
        "#\n",
        "# Unless required by applicable law or agreed to in writing, software\n",
        "# distributed under the License is distributed on an \"AS IS\" BASIS,\n",
        "# WITHOUT WARRANTIES OR CONDITIONS OF ANY KIND, either express or implied.\n",
        "# See the License for the specific language governing permissions and\n",
        "# limitations under the License."
      ]
    },
    {
      "cell_type": "markdown",
      "metadata": {
        "id": "Za8-Nr5k11fh"
      },
      "source": [
        "##### Copyright 2018 The TensorFlow Authors."
      ]
    },
    {
      "cell_type": "code",
      "execution_count": null,
      "metadata": {
        "cellView": "form",
        "id": "Eq10uEbw0E4l"
      },
      "outputs": [],
      "source": [
        "#@title Licensed under the Apache License, Version 2.0 (the \"License\");\n",
        "# you may not use this file except in compliance with the License.\n",
        "# You may obtain a copy of the License at\n",
        "#\n",
        "# https://www.apache.org/licenses/LICENSE-2.0\n",
        "#\n",
        "# Unless required by applicable law or agreed to in writing, software\n",
        "# distributed under the License is distributed on an \"AS IS\" BASIS,\n",
        "# WITHOUT WARRANTIES OR CONDITIONS OF ANY KIND, either express or implied.\n",
        "# See the License for the specific language governing permissions and\n",
        "# limitations under the License."
      ]
    },
    {
      "cell_type": "markdown",
      "metadata": {
        "id": "UysiGN3tGQHY"
      },
      "source": [
        "# Running TFLite Models"
      ]
    },
    {
      "cell_type": "markdown",
      "metadata": {
        "id": "W-VhTkyTGcaQ"
      },
      "source": [
        "## Setup"
      ]
    },
    {
      "cell_type": "code",
      "execution_count": 1,
      "metadata": {
        "id": "Ll4ii2J9Fea_"
      },
      "outputs": [],
      "source": [
        "try:\n",
        "    %tensorflow_version 2.x\n",
        "except:\n",
        "    pass"
      ]
    },
    {
      "cell_type": "code",
      "execution_count": 2,
      "metadata": {
        "id": "dy4BcTjBFTWx"
      },
      "outputs": [
        {
          "name": "stdout",
          "output_type": "stream",
          "text": [
            "WARNING:tensorflow:From c:\\Users\\lenovo\\AppData\\Local\\Programs\\Python\\Python311\\Lib\\site-packages\\keras\\src\\losses.py:2976: The name tf.losses.sparse_softmax_cross_entropy is deprecated. Please use tf.compat.v1.losses.sparse_softmax_cross_entropy instead.\n",
            "\n",
            "• Using TensorFlow Version: 2.15.0\n"
          ]
        }
      ],
      "source": [
        "import pathlib\n",
        "import numpy as np\n",
        "import matplotlib.pyplot as plt\n",
        "\n",
        "import tensorflow as tf\n",
        "\n",
        "print('\\u2022 Using TensorFlow Version:', tf.__version__)"
      ]
    },
    {
      "cell_type": "markdown",
      "metadata": {
        "id": "ceibQLDeGhI4"
      },
      "source": [
        "## Create a Basic Model of the Form y = mx + c"
      ]
    },
    {
      "cell_type": "code",
      "execution_count": 3,
      "metadata": {
        "id": "YIBCsjQNF46Z"
      },
      "outputs": [
        {
          "name": "stdout",
          "output_type": "stream",
          "text": [
            "WARNING:tensorflow:From c:\\Users\\lenovo\\AppData\\Local\\Programs\\Python\\Python311\\Lib\\site-packages\\keras\\src\\backend.py:873: The name tf.get_default_graph is deprecated. Please use tf.compat.v1.get_default_graph instead.\n",
            "\n",
            "WARNING:tensorflow:From c:\\Users\\lenovo\\AppData\\Local\\Programs\\Python\\Python311\\Lib\\site-packages\\keras\\src\\optimizers\\__init__.py:309: The name tf.train.Optimizer is deprecated. Please use tf.compat.v1.train.Optimizer instead.\n",
            "\n",
            "Epoch 1/200\n",
            "WARNING:tensorflow:From c:\\Users\\lenovo\\AppData\\Local\\Programs\\Python\\Python311\\Lib\\site-packages\\keras\\src\\utils\\tf_utils.py:492: The name tf.ragged.RaggedTensorValue is deprecated. Please use tf.compat.v1.ragged.RaggedTensorValue instead.\n",
            "\n",
            "1/1 [==============================] - 1s 521ms/step - loss: 35.8182\n",
            "Epoch 2/200\n",
            "1/1 [==============================] - 0s 11ms/step - loss: 28.5178\n",
            "Epoch 3/200\n",
            "1/1 [==============================] - 0s 8ms/step - loss: 22.7673\n",
            "Epoch 4/200\n",
            "1/1 [==============================] - 0s 7ms/step - loss: 18.2362\n",
            "Epoch 5/200\n",
            "1/1 [==============================] - 0s 7ms/step - loss: 14.6647\n",
            "Epoch 6/200\n",
            "1/1 [==============================] - 0s 6ms/step - loss: 11.8484\n",
            "Epoch 7/200\n",
            "1/1 [==============================] - 0s 7ms/step - loss: 9.6262\n",
            "Epoch 8/200\n",
            "1/1 [==============================] - 0s 7ms/step - loss: 7.8716\n",
            "Epoch 9/200\n",
            "1/1 [==============================] - 0s 6ms/step - loss: 6.4851\n",
            "Epoch 10/200\n",
            "1/1 [==============================] - 0s 7ms/step - loss: 5.3883\n",
            "Epoch 11/200\n",
            "1/1 [==============================] - 0s 7ms/step - loss: 4.5194\n",
            "Epoch 12/200\n",
            "1/1 [==============================] - 0s 6ms/step - loss: 3.8301\n",
            "Epoch 13/200\n",
            "1/1 [==============================] - 0s 8ms/step - loss: 3.2822\n",
            "Epoch 14/200\n",
            "1/1 [==============================] - 0s 8ms/step - loss: 2.8456\n",
            "Epoch 15/200\n",
            "1/1 [==============================] - 0s 10ms/step - loss: 2.4966\n",
            "Epoch 16/200\n",
            "1/1 [==============================] - 0s 8ms/step - loss: 2.2168\n",
            "Epoch 17/200\n",
            "1/1 [==============================] - 0s 14ms/step - loss: 1.9915\n",
            "Epoch 18/200\n",
            "1/1 [==============================] - 0s 11ms/step - loss: 1.8091\n",
            "Epoch 19/200\n",
            "1/1 [==============================] - 0s 9ms/step - loss: 1.6607\n",
            "Epoch 20/200\n",
            "1/1 [==============================] - 0s 7ms/step - loss: 1.5390\n",
            "Epoch 21/200\n",
            "1/1 [==============================] - 0s 9ms/step - loss: 1.4385\n",
            "Epoch 22/200\n",
            "1/1 [==============================] - 0s 8ms/step - loss: 1.3548\n",
            "Epoch 23/200\n",
            "1/1 [==============================] - 0s 8ms/step - loss: 1.2843\n",
            "Epoch 24/200\n",
            "1/1 [==============================] - 0s 7ms/step - loss: 1.2244\n",
            "Epoch 25/200\n",
            "1/1 [==============================] - 0s 8ms/step - loss: 1.1728\n",
            "Epoch 26/200\n",
            "1/1 [==============================] - 0s 9ms/step - loss: 1.1280\n",
            "Epoch 27/200\n",
            "1/1 [==============================] - 0s 9ms/step - loss: 1.0885\n",
            "Epoch 28/200\n",
            "1/1 [==============================] - 0s 13ms/step - loss: 1.0533\n",
            "Epoch 29/200\n",
            "1/1 [==============================] - 0s 8ms/step - loss: 1.0215\n",
            "Epoch 30/200\n",
            "1/1 [==============================] - 0s 8ms/step - loss: 0.9926\n",
            "Epoch 31/200\n",
            "1/1 [==============================] - 0s 15ms/step - loss: 0.9659\n",
            "Epoch 32/200\n",
            "1/1 [==============================] - 0s 8ms/step - loss: 0.9412\n",
            "Epoch 33/200\n",
            "1/1 [==============================] - 0s 7ms/step - loss: 0.9180\n",
            "Epoch 34/200\n",
            "1/1 [==============================] - 0s 7ms/step - loss: 0.8961\n",
            "Epoch 35/200\n",
            "1/1 [==============================] - 0s 8ms/step - loss: 0.8753\n",
            "Epoch 36/200\n",
            "1/1 [==============================] - 0s 8ms/step - loss: 0.8554\n",
            "Epoch 37/200\n",
            "1/1 [==============================] - 0s 7ms/step - loss: 0.8363\n",
            "Epoch 38/200\n",
            "1/1 [==============================] - 0s 7ms/step - loss: 0.8180\n",
            "Epoch 39/200\n",
            "1/1 [==============================] - 0s 8ms/step - loss: 0.8003\n",
            "Epoch 40/200\n",
            "1/1 [==============================] - 0s 6ms/step - loss: 0.7831\n",
            "Epoch 41/200\n",
            "1/1 [==============================] - 0s 6ms/step - loss: 0.7665\n",
            "Epoch 42/200\n",
            "1/1 [==============================] - 0s 7ms/step - loss: 0.7503\n",
            "Epoch 43/200\n",
            "1/1 [==============================] - 0s 8ms/step - loss: 0.7345\n",
            "Epoch 44/200\n",
            "1/1 [==============================] - 0s 7ms/step - loss: 0.7191\n",
            "Epoch 45/200\n",
            "1/1 [==============================] - 0s 7ms/step - loss: 0.7041\n",
            "Epoch 46/200\n",
            "1/1 [==============================] - 0s 7ms/step - loss: 0.6895\n",
            "Epoch 47/200\n",
            "1/1 [==============================] - 0s 8ms/step - loss: 0.6752\n",
            "Epoch 48/200\n",
            "1/1 [==============================] - 0s 8ms/step - loss: 0.6612\n",
            "Epoch 49/200\n",
            "1/1 [==============================] - 0s 7ms/step - loss: 0.6476\n",
            "Epoch 50/200\n",
            "1/1 [==============================] - 0s 8ms/step - loss: 0.6342\n",
            "Epoch 51/200\n",
            "1/1 [==============================] - 0s 7ms/step - loss: 0.6211\n",
            "Epoch 52/200\n",
            "1/1 [==============================] - 0s 7ms/step - loss: 0.6083\n",
            "Epoch 53/200\n",
            "1/1 [==============================] - 0s 8ms/step - loss: 0.5958\n",
            "Epoch 54/200\n",
            "1/1 [==============================] - 0s 6ms/step - loss: 0.5835\n",
            "Epoch 55/200\n",
            "1/1 [==============================] - 0s 7ms/step - loss: 0.5715\n",
            "Epoch 56/200\n",
            "1/1 [==============================] - 0s 13ms/step - loss: 0.5598\n",
            "Epoch 57/200\n",
            "1/1 [==============================] - 0s 10ms/step - loss: 0.5483\n",
            "Epoch 58/200\n",
            "1/1 [==============================] - 0s 11ms/step - loss: 0.5370\n",
            "Epoch 59/200\n",
            "1/1 [==============================] - 0s 8ms/step - loss: 0.5260\n",
            "Epoch 60/200\n",
            "1/1 [==============================] - 0s 8ms/step - loss: 0.5151\n",
            "Epoch 61/200\n",
            "1/1 [==============================] - 0s 7ms/step - loss: 0.5046\n",
            "Epoch 62/200\n",
            "1/1 [==============================] - 0s 11ms/step - loss: 0.4942\n",
            "Epoch 63/200\n",
            "1/1 [==============================] - 0s 13ms/step - loss: 0.4840\n",
            "Epoch 64/200\n",
            "1/1 [==============================] - 0s 8ms/step - loss: 0.4741\n",
            "Epoch 65/200\n",
            "1/1 [==============================] - 0s 10ms/step - loss: 0.4644\n",
            "Epoch 66/200\n",
            "1/1 [==============================] - 0s 9ms/step - loss: 0.4548\n",
            "Epoch 67/200\n",
            "1/1 [==============================] - 0s 10ms/step - loss: 0.4455\n",
            "Epoch 68/200\n",
            "1/1 [==============================] - 0s 10ms/step - loss: 0.4363\n",
            "Epoch 69/200\n",
            "1/1 [==============================] - 0s 9ms/step - loss: 0.4274\n",
            "Epoch 70/200\n",
            "1/1 [==============================] - 0s 7ms/step - loss: 0.4186\n",
            "Epoch 71/200\n",
            "1/1 [==============================] - 0s 8ms/step - loss: 0.4100\n",
            "Epoch 72/200\n",
            "1/1 [==============================] - 0s 13ms/step - loss: 0.4016\n",
            "Epoch 73/200\n",
            "1/1 [==============================] - 0s 10ms/step - loss: 0.3933\n",
            "Epoch 74/200\n",
            "1/1 [==============================] - 0s 12ms/step - loss: 0.3852\n",
            "Epoch 75/200\n",
            "1/1 [==============================] - 0s 11ms/step - loss: 0.3773\n",
            "Epoch 76/200\n",
            "1/1 [==============================] - 0s 10ms/step - loss: 0.3696\n",
            "Epoch 77/200\n",
            "1/1 [==============================] - 0s 9ms/step - loss: 0.3620\n",
            "Epoch 78/200\n",
            "1/1 [==============================] - 0s 11ms/step - loss: 0.3545\n",
            "Epoch 79/200\n",
            "1/1 [==============================] - 0s 10ms/step - loss: 0.3473\n",
            "Epoch 80/200\n",
            "1/1 [==============================] - 0s 11ms/step - loss: 0.3401\n",
            "Epoch 81/200\n",
            "1/1 [==============================] - 0s 7ms/step - loss: 0.3331\n",
            "Epoch 82/200\n",
            "1/1 [==============================] - 0s 7ms/step - loss: 0.3263\n",
            "Epoch 83/200\n",
            "1/1 [==============================] - 0s 9ms/step - loss: 0.3196\n",
            "Epoch 84/200\n",
            "1/1 [==============================] - 0s 8ms/step - loss: 0.3130\n",
            "Epoch 85/200\n",
            "1/1 [==============================] - 0s 8ms/step - loss: 0.3066\n",
            "Epoch 86/200\n",
            "1/1 [==============================] - 0s 6ms/step - loss: 0.3003\n",
            "Epoch 87/200\n",
            "1/1 [==============================] - 0s 7ms/step - loss: 0.2941\n",
            "Epoch 88/200\n",
            "1/1 [==============================] - 0s 8ms/step - loss: 0.2881\n",
            "Epoch 89/200\n",
            "1/1 [==============================] - 0s 12ms/step - loss: 0.2822\n",
            "Epoch 90/200\n",
            "1/1 [==============================] - 0s 10ms/step - loss: 0.2764\n",
            "Epoch 91/200\n",
            "1/1 [==============================] - 0s 8ms/step - loss: 0.2707\n",
            "Epoch 92/200\n",
            "1/1 [==============================] - 0s 9ms/step - loss: 0.2651\n",
            "Epoch 93/200\n",
            "1/1 [==============================] - 0s 8ms/step - loss: 0.2597\n",
            "Epoch 94/200\n",
            "1/1 [==============================] - 0s 11ms/step - loss: 0.2544\n",
            "Epoch 95/200\n",
            "1/1 [==============================] - 0s 14ms/step - loss: 0.2491\n",
            "Epoch 96/200\n",
            "1/1 [==============================] - 0s 9ms/step - loss: 0.2440\n",
            "Epoch 97/200\n",
            "1/1 [==============================] - 0s 9ms/step - loss: 0.2390\n",
            "Epoch 98/200\n",
            "1/1 [==============================] - 0s 10ms/step - loss: 0.2341\n",
            "Epoch 99/200\n",
            "1/1 [==============================] - 0s 8ms/step - loss: 0.2293\n",
            "Epoch 100/200\n",
            "1/1 [==============================] - 0s 10ms/step - loss: 0.2246\n",
            "Epoch 101/200\n",
            "1/1 [==============================] - 0s 7ms/step - loss: 0.2200\n",
            "Epoch 102/200\n",
            "1/1 [==============================] - 0s 7ms/step - loss: 0.2154\n",
            "Epoch 103/200\n",
            "1/1 [==============================] - 0s 6ms/step - loss: 0.2110\n",
            "Epoch 104/200\n",
            "1/1 [==============================] - 0s 7ms/step - loss: 0.2067\n",
            "Epoch 105/200\n",
            "1/1 [==============================] - 0s 9ms/step - loss: 0.2024\n",
            "Epoch 106/200\n",
            "1/1 [==============================] - 0s 7ms/step - loss: 0.1983\n",
            "Epoch 107/200\n",
            "1/1 [==============================] - 0s 11ms/step - loss: 0.1942\n",
            "Epoch 108/200\n",
            "1/1 [==============================] - 0s 9ms/step - loss: 0.1902\n",
            "Epoch 109/200\n",
            "1/1 [==============================] - 0s 6ms/step - loss: 0.1863\n",
            "Epoch 110/200\n",
            "1/1 [==============================] - 0s 7ms/step - loss: 0.1825\n",
            "Epoch 111/200\n",
            "1/1 [==============================] - 0s 6ms/step - loss: 0.1787\n",
            "Epoch 112/200\n",
            "1/1 [==============================] - 0s 8ms/step - loss: 0.1751\n",
            "Epoch 113/200\n",
            "1/1 [==============================] - 0s 7ms/step - loss: 0.1715\n",
            "Epoch 114/200\n",
            "1/1 [==============================] - 0s 7ms/step - loss: 0.1679\n",
            "Epoch 115/200\n",
            "1/1 [==============================] - 0s 9ms/step - loss: 0.1645\n",
            "Epoch 116/200\n",
            "1/1 [==============================] - 0s 11ms/step - loss: 0.1611\n",
            "Epoch 117/200\n",
            "1/1 [==============================] - 0s 16ms/step - loss: 0.1578\n",
            "Epoch 118/200\n",
            "1/1 [==============================] - 0s 9ms/step - loss: 0.1546\n",
            "Epoch 119/200\n",
            "1/1 [==============================] - 0s 8ms/step - loss: 0.1514\n",
            "Epoch 120/200\n",
            "1/1 [==============================] - 0s 8ms/step - loss: 0.1483\n",
            "Epoch 121/200\n",
            "1/1 [==============================] - 0s 10ms/step - loss: 0.1452\n",
            "Epoch 122/200\n",
            "1/1 [==============================] - 0s 10ms/step - loss: 0.1423\n",
            "Epoch 123/200\n",
            "1/1 [==============================] - 0s 10ms/step - loss: 0.1393\n",
            "Epoch 124/200\n",
            "1/1 [==============================] - 0s 10ms/step - loss: 0.1365\n",
            "Epoch 125/200\n",
            "1/1 [==============================] - 0s 10ms/step - loss: 0.1337\n",
            "Epoch 126/200\n",
            "1/1 [==============================] - 0s 10ms/step - loss: 0.1309\n",
            "Epoch 127/200\n",
            "1/1 [==============================] - 0s 9ms/step - loss: 0.1282\n",
            "Epoch 128/200\n",
            "1/1 [==============================] - 0s 9ms/step - loss: 0.1256\n",
            "Epoch 129/200\n",
            "1/1 [==============================] - 0s 9ms/step - loss: 0.1230\n",
            "Epoch 130/200\n",
            "1/1 [==============================] - 0s 17ms/step - loss: 0.1205\n",
            "Epoch 131/200\n",
            "1/1 [==============================] - 0s 10ms/step - loss: 0.1180\n",
            "Epoch 132/200\n",
            "1/1 [==============================] - 0s 10ms/step - loss: 0.1156\n",
            "Epoch 133/200\n",
            "1/1 [==============================] - 0s 11ms/step - loss: 0.1132\n",
            "Epoch 134/200\n",
            "1/1 [==============================] - 0s 7ms/step - loss: 0.1109\n",
            "Epoch 135/200\n",
            "1/1 [==============================] - 0s 6ms/step - loss: 0.1086\n",
            "Epoch 136/200\n",
            "1/1 [==============================] - 0s 8ms/step - loss: 0.1064\n",
            "Epoch 137/200\n",
            "1/1 [==============================] - 0s 7ms/step - loss: 0.1042\n",
            "Epoch 138/200\n",
            "1/1 [==============================] - 0s 7ms/step - loss: 0.1021\n",
            "Epoch 139/200\n",
            "1/1 [==============================] - 0s 7ms/step - loss: 0.1000\n",
            "Epoch 140/200\n",
            "1/1 [==============================] - 0s 8ms/step - loss: 0.0979\n",
            "Epoch 141/200\n",
            "1/1 [==============================] - 0s 7ms/step - loss: 0.0959\n",
            "Epoch 142/200\n",
            "1/1 [==============================] - 0s 8ms/step - loss: 0.0939\n",
            "Epoch 143/200\n",
            "1/1 [==============================] - 0s 6ms/step - loss: 0.0920\n",
            "Epoch 144/200\n",
            "1/1 [==============================] - 0s 9ms/step - loss: 0.0901\n",
            "Epoch 145/200\n",
            "1/1 [==============================] - 0s 9ms/step - loss: 0.0883\n",
            "Epoch 146/200\n",
            "1/1 [==============================] - 0s 7ms/step - loss: 0.0864\n",
            "Epoch 147/200\n",
            "1/1 [==============================] - 0s 7ms/step - loss: 0.0847\n",
            "Epoch 148/200\n",
            "1/1 [==============================] - 0s 7ms/step - loss: 0.0829\n",
            "Epoch 149/200\n",
            "1/1 [==============================] - 0s 7ms/step - loss: 0.0812\n",
            "Epoch 150/200\n",
            "1/1 [==============================] - 0s 7ms/step - loss: 0.0796\n",
            "Epoch 151/200\n",
            "1/1 [==============================] - 0s 7ms/step - loss: 0.0779\n",
            "Epoch 152/200\n",
            "1/1 [==============================] - 0s 10ms/step - loss: 0.0763\n",
            "Epoch 153/200\n",
            "1/1 [==============================] - 0s 13ms/step - loss: 0.0748\n",
            "Epoch 154/200\n",
            "1/1 [==============================] - 0s 11ms/step - loss: 0.0732\n",
            "Epoch 155/200\n",
            "1/1 [==============================] - 0s 10ms/step - loss: 0.0717\n",
            "Epoch 156/200\n",
            "1/1 [==============================] - 0s 7ms/step - loss: 0.0702\n",
            "Epoch 157/200\n",
            "1/1 [==============================] - 0s 7ms/step - loss: 0.0688\n",
            "Epoch 158/200\n",
            "1/1 [==============================] - 0s 7ms/step - loss: 0.0674\n",
            "Epoch 159/200\n",
            "1/1 [==============================] - 0s 8ms/step - loss: 0.0660\n",
            "Epoch 160/200\n",
            "1/1 [==============================] - 0s 10ms/step - loss: 0.0646\n",
            "Epoch 161/200\n",
            "1/1 [==============================] - 0s 9ms/step - loss: 0.0633\n",
            "Epoch 162/200\n",
            "1/1 [==============================] - 0s 9ms/step - loss: 0.0620\n",
            "Epoch 163/200\n",
            "1/1 [==============================] - 0s 7ms/step - loss: 0.0607\n",
            "Epoch 164/200\n",
            "1/1 [==============================] - 0s 7ms/step - loss: 0.0595\n",
            "Epoch 165/200\n",
            "1/1 [==============================] - 0s 7ms/step - loss: 0.0583\n",
            "Epoch 166/200\n",
            "1/1 [==============================] - 0s 9ms/step - loss: 0.0571\n",
            "Epoch 167/200\n",
            "1/1 [==============================] - 0s 10ms/step - loss: 0.0559\n",
            "Epoch 168/200\n",
            "1/1 [==============================] - 0s 10ms/step - loss: 0.0548\n",
            "Epoch 169/200\n",
            "1/1 [==============================] - 0s 11ms/step - loss: 0.0536\n",
            "Epoch 170/200\n",
            "1/1 [==============================] - 0s 12ms/step - loss: 0.0525\n",
            "Epoch 171/200\n",
            "1/1 [==============================] - 0s 7ms/step - loss: 0.0515\n",
            "Epoch 172/200\n",
            "1/1 [==============================] - 0s 7ms/step - loss: 0.0504\n",
            "Epoch 173/200\n",
            "1/1 [==============================] - 0s 7ms/step - loss: 0.0494\n",
            "Epoch 174/200\n",
            "1/1 [==============================] - 0s 8ms/step - loss: 0.0483\n",
            "Epoch 175/200\n",
            "1/1 [==============================] - 0s 10ms/step - loss: 0.0474\n",
            "Epoch 176/200\n",
            "1/1 [==============================] - 0s 9ms/step - loss: 0.0464\n",
            "Epoch 177/200\n",
            "1/1 [==============================] - 0s 17ms/step - loss: 0.0454\n",
            "Epoch 178/200\n",
            "1/1 [==============================] - 0s 14ms/step - loss: 0.0445\n",
            "Epoch 179/200\n",
            "1/1 [==============================] - 0s 7ms/step - loss: 0.0436\n",
            "Epoch 180/200\n",
            "1/1 [==============================] - 0s 9ms/step - loss: 0.0427\n",
            "Epoch 181/200\n",
            "1/1 [==============================] - 0s 7ms/step - loss: 0.0418\n",
            "Epoch 182/200\n",
            "1/1 [==============================] - 0s 9ms/step - loss: 0.0410\n",
            "Epoch 183/200\n",
            "1/1 [==============================] - 0s 7ms/step - loss: 0.0401\n",
            "Epoch 184/200\n",
            "1/1 [==============================] - 0s 7ms/step - loss: 0.0393\n",
            "Epoch 185/200\n",
            "1/1 [==============================] - 0s 9ms/step - loss: 0.0385\n",
            "Epoch 186/200\n",
            "1/1 [==============================] - 0s 10ms/step - loss: 0.0377\n",
            "Epoch 187/200\n",
            "1/1 [==============================] - 0s 13ms/step - loss: 0.0369\n",
            "Epoch 188/200\n",
            "1/1 [==============================] - 0s 7ms/step - loss: 0.0362\n",
            "Epoch 189/200\n",
            "1/1 [==============================] - 0s 8ms/step - loss: 0.0354\n",
            "Epoch 190/200\n",
            "1/1 [==============================] - 0s 6ms/step - loss: 0.0347\n",
            "Epoch 191/200\n",
            "1/1 [==============================] - 0s 7ms/step - loss: 0.0340\n",
            "Epoch 192/200\n",
            "1/1 [==============================] - 0s 7ms/step - loss: 0.0333\n",
            "Epoch 193/200\n",
            "1/1 [==============================] - 0s 7ms/step - loss: 0.0326\n",
            "Epoch 194/200\n",
            "1/1 [==============================] - 0s 11ms/step - loss: 0.0319\n",
            "Epoch 195/200\n",
            "1/1 [==============================] - 0s 9ms/step - loss: 0.0313\n",
            "Epoch 196/200\n",
            "1/1 [==============================] - 0s 10ms/step - loss: 0.0306\n",
            "Epoch 197/200\n",
            "1/1 [==============================] - 0s 13ms/step - loss: 0.0300\n",
            "Epoch 198/200\n",
            "1/1 [==============================] - 0s 9ms/step - loss: 0.0294\n",
            "Epoch 199/200\n",
            "1/1 [==============================] - 0s 9ms/step - loss: 0.0288\n",
            "Epoch 200/200\n",
            "1/1 [==============================] - 0s 8ms/step - loss: 0.0282\n"
          ]
        },
        {
          "data": {
            "text/plain": [
              "<keras.src.callbacks.History at 0x1a951498490>"
            ]
          },
          "execution_count": 3,
          "metadata": {},
          "output_type": "execute_result"
        }
      ],
      "source": [
        "# Create a simple Keras model.\n",
        "x = [-1, 0, 1, 2, 3, 4]\n",
        "y = [-3, -1, 1, 3, 5, 7]\n",
        "\n",
        "model = tf.keras.models.Sequential([\n",
        "        tf.keras.layers.Dense(units=1, input_shape=[1])\n",
        "])\n",
        "\n",
        "model.compile(optimizer='sgd',\n",
        "              loss='mean_squared_error')\n",
        "\n",
        "model.fit(x, y, epochs=200)"
      ]
    },
    {
      "cell_type": "markdown",
      "metadata": {
        "id": "EjsB-QICGt6L"
      },
      "source": [
        "## Generate a SavedModel"
      ]
    },
    {
      "cell_type": "code",
      "execution_count": 4,
      "metadata": {
        "id": "a9xcbK7QHOfm"
      },
      "outputs": [
        {
          "name": "stdout",
          "output_type": "stream",
          "text": [
            "INFO:tensorflow:Assets written to: saved_model/1\\assets\n"
          ]
        },
        {
          "name": "stderr",
          "output_type": "stream",
          "text": [
            "INFO:tensorflow:Assets written to: saved_model/1\\assets\n"
          ]
        }
      ],
      "source": [
        "export_dir = 'saved_model/1'\n",
        "tf.saved_model.save(model, export_dir)"
      ]
    },
    {
      "cell_type": "markdown",
      "metadata": {
        "id": "RRtsNwkiGxcO"
      },
      "source": [
        "## Convert the SavedModel to TFLite"
      ]
    },
    {
      "cell_type": "code",
      "execution_count": 5,
      "metadata": {
        "id": "TtM8yKTVTpD3"
      },
      "outputs": [],
      "source": [
        "# Convert the model.\n",
        "converter = tf.lite.TFLiteConverter.from_saved_model(export_dir)\n",
        "tflite_model = converter.convert()"
      ]
    },
    {
      "cell_type": "code",
      "execution_count": 6,
      "metadata": {
        "id": "4idYulcNHTdO"
      },
      "outputs": [
        {
          "data": {
            "text/plain": [
              "1080"
            ]
          },
          "execution_count": 6,
          "metadata": {},
          "output_type": "execute_result"
        }
      ],
      "source": [
        "tflite_model_file = pathlib.Path('model.tflite')\n",
        "tflite_model_file.write_bytes(tflite_model)"
      ]
    },
    {
      "cell_type": "markdown",
      "metadata": {
        "id": "HgGvp2yBG25Q"
      },
      "source": [
        "## Initialize the TFLite Interpreter To Try It Out"
      ]
    },
    {
      "cell_type": "code",
      "execution_count": 7,
      "metadata": {
        "id": "DOt94wIWF8m7"
      },
      "outputs": [],
      "source": [
        "# Load TFLite model and allocate tensors.\n",
        "interpreter = tf.lite.Interpreter(model_content=tflite_model)\n",
        "interpreter.allocate_tensors()\n",
        "\n",
        "# Get input and output tensors.\n",
        "input_details = interpreter.get_input_details()\n",
        "output_details = interpreter.get_output_details()"
      ]
    },
    {
      "cell_type": "code",
      "execution_count": 8,
      "metadata": {
        "id": "JGYkEK08F8qK"
      },
      "outputs": [],
      "source": [
        "# Test the TensorFlow Lite model on random input data.\n",
        "input_shape = input_details[0]['shape']\n",
        "inputs, outputs = [], []\n",
        "for _ in range(100):\n",
        "    input_data = np.array(np.random.random_sample(input_shape), dtype=np.float32)\n",
        "    interpreter.set_tensor(input_details[0]['index'], input_data)\n",
        "    \n",
        "    interpreter.invoke()\n",
        "    tflite_results = interpreter.get_tensor(output_details[0]['index'])\n",
        "    \n",
        "    # Test the TensorFlow model on random input data.\n",
        "    tf_results = model(tf.constant(input_data))\n",
        "    output_data = np.array(tf_results)\n",
        "    \n",
        "    inputs.append(input_data[0][0])\n",
        "    outputs.append(output_data[0][0])"
      ]
    },
    {
      "cell_type": "markdown",
      "metadata": {
        "id": "t1gQGH1KWAgW"
      },
      "source": [
        "## Visualize the Model"
      ]
    },
    {
      "cell_type": "code",
      "execution_count": 9,
      "metadata": {
        "id": "ccvQ1mEJVrqo"
      },
      "outputs": [
        {
          "data": {
            "image/png": "[encoded data removed]",
            "text/plain": [
              "<Figure size 640x480 with 1 Axes>"
            ]
          },
          "metadata": {},
          "output_type": "display_data"
        }
      ],
      "source": [
        "%matplotlib inline\n",
        "\n",
        "plt.plot(inputs, outputs, 'r')\n",
        "plt.show()"
      ]
    },
    {
      "cell_type": "markdown",
      "metadata": {
        "id": "WbugMH6yKvtd"
      },
      "source": [
        "## Download the TFLite Model File\n",
        "\n",
        "If you are running this notebook in a Colab, you can run the cell below to download the tflite model to your local disk. \n",
        "\n",
        "**Note**: If the file does not download when you run the cell, try running the cell a second time."
      ]
    },
    {
      "cell_type": "code",
      "execution_count": null,
      "metadata": {
        "id": "FOAIMETeJmkc"
      },
      "outputs": [],
      "source": [
        "try:\n",
        "    from google.colab import files\n",
        "    files.download(tflite_model_file)\n",
        "except:\n",
        "    pass"
      ]
    }
  ],
  "metadata": {
    "accelerator": "GPU",
    "colab": {
      "collapsed_sections": [],
      "include_colab_link": true,
      "name": "C2_W1_Lab_1_Linear_Regression.ipynb",
      "private_outputs": true,
      "provenance": [],
      "toc_visible": true
    },
    "kernelspec": {
      "display_name": "Python 3",
      "language": "python",
      "name": "python3"
    },
    "language_info": {
      "codemirror_mode": {
        "name": "ipython",
        "version": 3
      },
      "file_extension": ".py",
      "mimetype": "text/x-python",
      "name": "python",
      "nbconvert_exporter": "python",
      "pygments_lexer": "ipython3",
      "version": "3.11.8"
    }
  },
  "nbformat": 4,
  "nbformat_minor": 0
}
