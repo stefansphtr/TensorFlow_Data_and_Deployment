{
  "cells": [
    {
      "cell_type": "markdown",
      "metadata": {
        "colab_type": "text",
        "id": "view-in-github"
      },
      "source": [
        "<a href=\"https://colab.research.google.com/github/https-deeplearning-ai/tensorflow-2-public/blob/adding_C3/C3/W3/assignment/C3_W3_Assignment.ipynb\" target=\"_parent\"><img src=\"https://colab.research.google.com/assets/colab-badge.svg\" alt=\"Open In Colab\"/></a>"
      ]
    },
    {
      "cell_type": "markdown",
      "metadata": {
        "id": "c05P9g5WjizZ"
      },
      "source": [
        "# Classify Structured Data"
      ]
    },
    {
      "cell_type": "markdown",
      "metadata": {
        "id": "VxyBFc_kKazA"
      },
      "source": [
        "## Import TensorFlow and Other Libraries"
      ]
    },
    {
      "cell_type": "code",
      "execution_count": 1,
      "metadata": {
        "id": "9dEreb4QKizj"
      },
      "outputs": [
        {
          "name": "stdout",
          "output_type": "stream",
          "text": [
            "WARNING:tensorflow:From c:\\Users\\lenovo\\AppData\\Local\\Programs\\Python\\Python311\\Lib\\site-packages\\keras\\src\\losses.py:2976: The name tf.losses.sparse_softmax_cross_entropy is deprecated. Please use tf.compat.v1.losses.sparse_softmax_cross_entropy instead.\n",
            "\n"
          ]
        }
      ],
      "source": [
        "import pandas as pd\n",
        "import tensorflow as tf\n",
        "\n",
        "from tensorflow.keras import layers\n",
        "from tensorflow import feature_column\n",
        "\n",
        "from os import getcwd\n",
        "from sklearn.model_selection import train_test_split"
      ]
    },
    {
      "cell_type": "markdown",
      "metadata": {
        "id": "KCEhSZcULZ9n"
      },
      "source": [
        "## Use Pandas to Create a Dataframe\n",
        "\n",
        "[Pandas](https://pandas.pydata.org/) is a Python library with many helpful utilities for loading and working with structured data. We will use Pandas to download the dataset and load it into a dataframe."
      ]
    },
    {
      "cell_type": "code",
      "execution_count": 2,
      "metadata": {
        "id": "REZ57BXCLdfG"
      },
      "outputs": [
        {
          "data": {
            "text/html": [
              "<div>\n",
              "<style scoped>\n",
              "    .dataframe tbody tr th:only-of-type {\n",
              "        vertical-align: middle;\n",
              "    }\n",
              "\n",
              "    .dataframe tbody tr th {\n",
              "        vertical-align: top;\n",
              "    }\n",
              "\n",
              "    .dataframe thead th {\n",
              "        text-align: right;\n",
              "    }\n",
              "</style>\n",
              "<table border=\"1\" class=\"dataframe\">\n",
              "  <thead>\n",
              "    <tr style=\"text-align: right;\">\n",
              "      <th></th>\n",
              "      <th>age</th>\n",
              "      <th>sex</th>\n",
              "      <th>cp</th>\n",
              "      <th>trestbps</th>\n",
              "      <th>chol</th>\n",
              "      <th>fbs</th>\n",
              "      <th>restecg</th>\n",
              "      <th>thalach</th>\n",
              "      <th>exang</th>\n",
              "      <th>oldpeak</th>\n",
              "      <th>slope</th>\n",
              "      <th>ca</th>\n",
              "      <th>thal</th>\n",
              "      <th>target</th>\n",
              "    </tr>\n",
              "  </thead>\n",
              "  <tbody>\n",
              "    <tr>\n",
              "      <th>0</th>\n",
              "      <td>63</td>\n",
              "      <td>1</td>\n",
              "      <td>1</td>\n",
              "      <td>145</td>\n",
              "      <td>233</td>\n",
              "      <td>1</td>\n",
              "      <td>2</td>\n",
              "      <td>150</td>\n",
              "      <td>0</td>\n",
              "      <td>2.3</td>\n",
              "      <td>3</td>\n",
              "      <td>0</td>\n",
              "      <td>fixed</td>\n",
              "      <td>0</td>\n",
              "    </tr>\n",
              "    <tr>\n",
              "      <th>1</th>\n",
              "      <td>67</td>\n",
              "      <td>1</td>\n",
              "      <td>4</td>\n",
              "      <td>160</td>\n",
              "      <td>286</td>\n",
              "      <td>0</td>\n",
              "      <td>2</td>\n",
              "      <td>108</td>\n",
              "      <td>1</td>\n",
              "      <td>1.5</td>\n",
              "      <td>2</td>\n",
              "      <td>3</td>\n",
              "      <td>normal</td>\n",
              "      <td>1</td>\n",
              "    </tr>\n",
              "    <tr>\n",
              "      <th>2</th>\n",
              "      <td>67</td>\n",
              "      <td>1</td>\n",
              "      <td>4</td>\n",
              "      <td>120</td>\n",
              "      <td>229</td>\n",
              "      <td>0</td>\n",
              "      <td>2</td>\n",
              "      <td>129</td>\n",
              "      <td>1</td>\n",
              "      <td>2.6</td>\n",
              "      <td>2</td>\n",
              "      <td>2</td>\n",
              "      <td>reversible</td>\n",
              "      <td>0</td>\n",
              "    </tr>\n",
              "    <tr>\n",
              "      <th>3</th>\n",
              "      <td>37</td>\n",
              "      <td>1</td>\n",
              "      <td>3</td>\n",
              "      <td>130</td>\n",
              "      <td>250</td>\n",
              "      <td>0</td>\n",
              "      <td>0</td>\n",
              "      <td>187</td>\n",
              "      <td>0</td>\n",
              "      <td>3.5</td>\n",
              "      <td>3</td>\n",
              "      <td>0</td>\n",
              "      <td>normal</td>\n",
              "      <td>0</td>\n",
              "    </tr>\n",
              "    <tr>\n",
              "      <th>4</th>\n",
              "      <td>41</td>\n",
              "      <td>0</td>\n",
              "      <td>2</td>\n",
              "      <td>130</td>\n",
              "      <td>204</td>\n",
              "      <td>0</td>\n",
              "      <td>2</td>\n",
              "      <td>172</td>\n",
              "      <td>0</td>\n",
              "      <td>1.4</td>\n",
              "      <td>1</td>\n",
              "      <td>0</td>\n",
              "      <td>normal</td>\n",
              "      <td>0</td>\n",
              "    </tr>\n",
              "  </tbody>\n",
              "</table>\n",
              "</div>"
            ],
            "text/plain": [
              "   age  sex  cp  trestbps  chol  fbs  restecg  thalach  exang  oldpeak  slope  \\\n",
              "0   63    1   1       145   233    1        2      150      0      2.3      3   \n",
              "1   67    1   4       160   286    0        2      108      1      1.5      2   \n",
              "2   67    1   4       120   229    0        2      129      1      2.6      2   \n",
              "3   37    1   3       130   250    0        0      187      0      3.5      3   \n",
              "4   41    0   2       130   204    0        2      172      0      1.4      1   \n",
              "\n",
              "   ca        thal  target  \n",
              "0   0       fixed       0  \n",
              "1   3      normal       1  \n",
              "2   2  reversible       0  \n",
              "3   0      normal       0  \n",
              "4   0      normal       0  "
            ]
          },
          "execution_count": 2,
          "metadata": {},
          "output_type": "execute_result"
        }
      ],
      "source": [
        "# if you are running your notebook on Coursera\n",
        "# filePath = f\"{getcwd()}/data/heart.csv\"\n",
        "\n",
        "# if you are running your notebook on your local machine\n",
        "filePath = \"./data/heart.csv\"\n",
        "\n",
        "# if you are running your notebook on Colab\n",
        "# !wget 'https://drive.google.com/uc?export=download&id=109ZN30t5Aa0wq1OuwdE1klBZk4nCHtN2'\n",
        "# filePath = \"uc?export=download&id=109ZN30t5Aa0wq1OuwdE1klBZk4nCHtN2\"\n",
        "\n",
        "dataframe = pd.read_csv(filePath)\n",
        "dataframe.head()"
      ]
    },
    {
      "cell_type": "markdown",
      "metadata": {
        "id": "u0zhLtQqMPem"
      },
      "source": [
        "## Split the Dataframe Into Train, Validation, and Test Sets\n",
        "\n",
        "The dataset we downloaded was a single CSV file. We will split this into train, validation, and test sets."
      ]
    },
    {
      "cell_type": "code",
      "execution_count": 3,
      "metadata": {
        "id": "YEOpw7LhMYsI"
      },
      "outputs": [
        {
          "name": "stdout",
          "output_type": "stream",
          "text": [
            "193 train examples\n",
            "49 validation examples\n",
            "61 test examples\n"
          ]
        }
      ],
      "source": [
        "train, test = train_test_split(dataframe, test_size=0.2)\n",
        "train, val = train_test_split(train, test_size=0.2)\n",
        "print(len(train), 'train examples')\n",
        "print(len(val), 'validation examples')\n",
        "print(len(test), 'test examples')"
      ]
    },
    {
      "cell_type": "markdown",
      "metadata": {
        "id": "84ef46LXMfvu"
      },
      "source": [
        "## Create an Input Pipeline Using `tf.data`\n",
        "\n",
        "Next, we will wrap the dataframes with [tf.data](https://www.tensorflow.org/guide/datasets). This will enable us  to use feature columns as a bridge to map from the columns in the Pandas dataframe to features used to train the model. If we were working with a very large CSV file (so large that it does not fit into memory), we would use tf.data to read it from disk directly."
      ]
    },
    {
      "cell_type": "code",
      "execution_count": 4,
      "metadata": {
        "id": "42nXwT0pDp7A"
      },
      "outputs": [],
      "source": [
        "# EXERCISE: A utility method to create a tf.data dataset from a Pandas Dataframe.\n",
        "\n",
        "def df_to_dataset(dataframe, shuffle=True, batch_size=32):\n",
        "    dataframe = dataframe.copy()\n",
        "    \n",
        "    # Use Pandas dataframe's pop method to get the list of targets.\n",
        "    labels = dataframe.pop('target')\n",
        "    \n",
        "    # Create a tf.data.Dataset from the dataframe and labels.\n",
        "    ds = tf.data.Dataset.from_tensor_slices((dict(dataframe), labels))\n",
        "    \n",
        "    if shuffle:\n",
        "        # Shuffle dataset.\n",
        "        ds = ds.shuffle(buffer_size=len(dataframe))\n",
        "        \n",
        "    # Batch dataset with specified batch_size parameter.\n",
        "    ds = ds.batch(batch_size)\n",
        "    \n",
        "    return ds"
      ]
    },
    {
      "cell_type": "code",
      "execution_count": 5,
      "metadata": {
        "id": "CXbbXkJvMy34"
      },
      "outputs": [],
      "source": [
        "batch_size = 5 # A small batch sized is used for demonstration purposes\n",
        "train_ds = df_to_dataset(train, batch_size=batch_size)\n",
        "val_ds = df_to_dataset(val, shuffle=False, batch_size=batch_size)\n",
        "test_ds = df_to_dataset(test, shuffle=False, batch_size=batch_size)"
      ]
    },
    {
      "cell_type": "markdown",
      "metadata": {
        "id": "qRLGSMDzM-dl"
      },
      "source": [
        "## Understand the Input Pipeline\n",
        "\n",
        "Now that we have created the input pipeline, let's call it to see the format of the data it returns. We have used a small batch size to keep the output readable."
      ]
    },
    {
      "cell_type": "code",
      "execution_count": 6,
      "metadata": {
        "id": "CSBo3dUVNFc9"
      },
      "outputs": [
        {
          "name": "stdout",
          "output_type": "stream",
          "text": [
            "Every feature: ['age', 'sex', 'cp', 'trestbps', 'chol', 'fbs', 'restecg', 'thalach', 'exang', 'oldpeak', 'slope', 'ca', 'thal']\n",
            "A batch of ages: tf.Tensor([56 52 56 45 49], shape=(5,), dtype=int64)\n",
            "A batch of targets: tf.Tensor([0 0 1 0 0], shape=(5,), dtype=int64)\n"
          ]
        }
      ],
      "source": [
        "for feature_batch, label_batch in train_ds.take(1):\n",
        "    print('Every feature:', list(feature_batch.keys()))\n",
        "    print('A batch of ages:', feature_batch['age'])\n",
        "    print('A batch of targets:', label_batch )"
      ]
    },
    {
      "cell_type": "markdown",
      "metadata": {
        "id": "OT5N6Se-NQsC"
      },
      "source": [
        "We can see that the dataset returns a dictionary of column names (from the dataframe) that map to column values from rows in the dataframe."
      ]
    },
    {
      "cell_type": "markdown",
      "metadata": {
        "id": "ttIvgLRaNoOQ"
      },
      "source": [
        "## Create Several Types of Feature Columns\n",
        "\n",
        "TensorFlow provides many types of feature columns. In this section, we will create several types of feature columns, and demonstrate how they transform a column from the dataframe."
      ]
    },
    {
      "cell_type": "code",
      "execution_count": 7,
      "metadata": {
        "id": "mxwiHFHuNhmf"
      },
      "outputs": [],
      "source": [
        "# Try to demonstrate several types of feature columns by getting an example.\n",
        "example_batch = next(iter(train_ds))[0]"
      ]
    },
    {
      "cell_type": "code",
      "execution_count": 8,
      "metadata": {
        "id": "0wfLB8Q3N3UH"
      },
      "outputs": [],
      "source": [
        "# A utility method to create a feature column and to transform a batch of data.\n",
        "def demo(feature_column):\n",
        "    feature_layer = layers.DenseFeatures(feature_column, dtype='float64')\n",
        "    print(feature_layer(example_batch).numpy())"
      ]
    },
    {
      "cell_type": "markdown",
      "metadata": {
        "id": "Q7OEKe82N-Qb"
      },
      "source": [
        "### Numeric Columns\n",
        "\n",
        "The output of a feature column becomes the input to the model (using the demo function defined above, we will be able to see exactly how each column from the dataframe is transformed). A [numeric column](https://www.tensorflow.org/api_docs/python/tf/feature_column/numeric_column) is the simplest type of column. It is used to represent real valued features. "
      ]
    },
    {
      "cell_type": "code",
      "execution_count": 9,
      "metadata": {
        "id": "QZTZ0HnHOCxC"
      },
      "outputs": [
        {
          "name": "stdout",
          "output_type": "stream",
          "text": [
            "WARNING:tensorflow:From C:\\Users\\lenovo\\AppData\\Local\\Temp\\ipykernel_11148\\4159571162.py:2: numeric_column (from tensorflow.python.feature_column.feature_column_v2) is deprecated and will be removed in a future version.\n",
            "Instructions for updating:\n",
            "Use Keras preprocessing layers instead, either directly or via the `tf.keras.utils.FeatureSpace` utility. Each of `tf.feature_column.*` has a functional equivalent in `tf.keras.layers` for feature preprocessing when training a Keras model.\n",
            "WARNING:tensorflow:From c:\\Users\\lenovo\\AppData\\Local\\Programs\\Python\\Python311\\Lib\\site-packages\\keras\\src\\backend.py:873: The name tf.get_default_graph is deprecated. Please use tf.compat.v1.get_default_graph instead.\n",
            "\n",
            "[[47.]\n",
            " [37.]\n",
            " [57.]\n",
            " [54.]\n",
            " [63.]]\n"
          ]
        }
      ],
      "source": [
        "# EXERCISE: Create a numeric feature column out of 'age' and demo it.\n",
        "age = feature_column.numeric_column(\"age\")\n",
        "\n",
        "demo(age)"
      ]
    },
    {
      "cell_type": "markdown",
      "metadata": {
        "id": "7a6ddSyzOKpq"
      },
      "source": [
        "In the heart disease dataset, most columns from the dataframe are numeric."
      ]
    },
    {
      "cell_type": "markdown",
      "metadata": {
        "id": "IcSxUoYgOlA1"
      },
      "source": [
        "### Bucketized Columns\n",
        "\n",
        "Often, you don't want to feed a number directly into the model, but instead split its value into different categories based on numerical ranges. Consider raw data that represents a person's age. Instead of representing age as a numeric column, we could split the age into several buckets using a [bucketized column](https://www.tensorflow.org/api_docs/python/tf/feature_column/bucketized_column). "
      ]
    },
    {
      "cell_type": "code",
      "execution_count": 10,
      "metadata": {
        "id": "wJ4Wt3SAOpTQ"
      },
      "outputs": [
        {
          "name": "stdout",
          "output_type": "stream",
          "text": [
            "WARNING:tensorflow:From C:\\Users\\lenovo\\AppData\\Local\\Temp\\ipykernel_11148\\2827409990.py:5: bucketized_column (from tensorflow.python.feature_column.feature_column_v2) is deprecated and will be removed in a future version.\n",
            "Instructions for updating:\n",
            "Use Keras preprocessing layers instead, either directly or via the `tf.keras.utils.FeatureSpace` utility. Each of `tf.feature_column.*` has a functional equivalent in `tf.keras.layers` for feature preprocessing when training a Keras model.\n",
            "[[0. 0. 0. 0. 0. 0. 1. 0. 0. 0. 0.]\n",
            " [0. 0. 0. 0. 1. 0. 0. 0. 0. 0. 0.]\n",
            " [0. 0. 0. 0. 0. 0. 0. 0. 1. 0. 0.]\n",
            " [0. 0. 0. 0. 0. 0. 0. 1. 0. 0. 0.]\n",
            " [0. 0. 0. 0. 0. 0. 0. 0. 0. 1. 0.]]\n"
          ]
        }
      ],
      "source": [
        "# EXERCISE: Create a bucketized feature column out of 'age' with\n",
        "# the following boundaries and demo it.\n",
        "boundaries = [18, 25, 30, 35, 40, 45, 50, 55, 60, 65]\n",
        "\n",
        "age_buckets = feature_column.bucketized_column(age, boundaries)\n",
        "\n",
        "demo(age_buckets)"
      ]
    },
    {
      "cell_type": "markdown",
      "metadata": {
        "id": "-me1NKJ4BIEB"
      },
      "source": [
        "Notice the one-hot values above describe which age range each row matches."
      ]
    },
    {
      "cell_type": "markdown",
      "metadata": {
        "id": "r1tArzewPb-b"
      },
      "source": [
        "### Categorical Columns\n",
        "\n",
        "In this dataset, thal is represented as a string (e.g. 'fixed', 'normal', or 'reversible'). We cannot feed strings directly to a model. Instead, we must first map them to numeric values. The categorical vocabulary columns provide a way to represent strings as a one-hot vector (much like you have seen above with age buckets). \n",
        "\n",
        "**Note**: You will probably see some warning messages when running some of the code cell below. These warnings have to do with software updates and should not cause any errors or prevent your code from running."
      ]
    },
    {
      "cell_type": "code",
      "execution_count": 12,
      "metadata": {
        "id": "DJ6QnSHkPtOC"
      },
      "outputs": [
        {
          "name": "stdout",
          "output_type": "stream",
          "text": [
            "WARNING:tensorflow:From C:\\Users\\lenovo\\AppData\\Local\\Temp\\ipykernel_11148\\3889129492.py:3: categorical_column_with_vocabulary_list (from tensorflow.python.feature_column.feature_column_v2) is deprecated and will be removed in a future version.\n",
            "Instructions for updating:\n",
            "Use Keras preprocessing layers instead, either directly or via the `tf.keras.utils.FeatureSpace` utility. Each of `tf.feature_column.*` has a functional equivalent in `tf.keras.layers` for feature preprocessing when training a Keras model.\n",
            "WARNING:tensorflow:From C:\\Users\\lenovo\\AppData\\Local\\Temp\\ipykernel_11148\\3889129492.py:9: indicator_column (from tensorflow.python.feature_column.feature_column_v2) is deprecated and will be removed in a future version.\n",
            "Instructions for updating:\n",
            "Use Keras preprocessing layers instead, either directly or via the `tf.keras.utils.FeatureSpace` utility. Each of `tf.feature_column.*` has a functional equivalent in `tf.keras.layers` for feature preprocessing when training a Keras model.\n",
            "[[0. 1. 0.]\n",
            " [0. 1. 0.]\n",
            " [0. 0. 1.]\n",
            " [0. 0. 1.]\n",
            " [0. 0. 1.]]\n"
          ]
        }
      ],
      "source": [
        "# EXERCISE: Create a categorical vocabulary column out of the\n",
        "# above mentioned categories with the key specified as 'thal'.\n",
        "thal = feature_column.categorical_column_with_vocabulary_list(\n",
        "    'thal', ['fixed', 'normal', 'reversible']\n",
        ")\n",
        "\n",
        "\n",
        "# EXERCISE: Create an indicator column out of the created categorical column.\n",
        "thal_one_hot = feature_column.indicator_column(thal)\n",
        "\n",
        "demo(thal_one_hot)"
      ]
    },
    {
      "cell_type": "markdown",
      "metadata": {
        "id": "zQT4zecNBtji"
      },
      "source": [
        "The vocabulary can be passed as a list using [categorical_column_with_vocabulary_list](https://www.tensorflow.org/api_docs/python/tf/feature_column/categorical_column_with_vocabulary_list), or loaded from a file using [categorical_column_with_vocabulary_file](https://www.tensorflow.org/api_docs/python/tf/feature_column/categorical_column_with_vocabulary_file)."
      ]
    },
    {
      "cell_type": "markdown",
      "metadata": {
        "id": "LEFPjUr6QmwS"
      },
      "source": [
        "### Embedding Columns\n",
        "\n",
        "Suppose instead of having just a few possible strings, we have thousands (or more) values per category. For a number of reasons, as the number of categories grow large, it becomes infeasible to train a neural network using one-hot encodings. We can use an embedding column to overcome this limitation. Instead of representing the data as a one-hot vector of many dimensions, an [embedding column](https://www.tensorflow.org/api_docs/python/tf/feature_column/embedding_column) represents that data as a lower-dimensional, dense vector in which each cell can contain any number, not just 0 or 1. You can tune the size of the embedding with the `dimension` parameter."
      ]
    },
    {
      "cell_type": "code",
      "execution_count": 13,
      "metadata": {
        "id": "hSlohmr2Q_UU"
      },
      "outputs": [
        {
          "name": "stdout",
          "output_type": "stream",
          "text": [
            "WARNING:tensorflow:From C:\\Users\\lenovo\\AppData\\Local\\Temp\\ipykernel_11148\\4284102416.py:5: embedding_column (from tensorflow.python.feature_column.feature_column_v2) is deprecated and will be removed in a future version.\n",
            "Instructions for updating:\n",
            "Use Keras preprocessing layers instead, either directly or via the `tf.keras.utils.FeatureSpace` utility. Each of `tf.feature_column.*` has a functional equivalent in `tf.keras.layers` for feature preprocessing when training a Keras model.\n",
            "[[ 0.05709937 -0.55992454 -0.07233249 -0.12018451  0.10131603  0.06449723\n",
            "   0.29686138  0.09800661]\n",
            " [ 0.05709937 -0.55992454 -0.07233249 -0.12018451  0.10131603  0.06449723\n",
            "   0.29686138  0.09800661]\n",
            " [-0.01904134  0.43321666  0.16926607  0.0910809   0.2972488  -0.12993245\n",
            "  -0.42241758 -0.5160812 ]\n",
            " [-0.01904134  0.43321666  0.16926607  0.0910809   0.2972488  -0.12993245\n",
            "  -0.42241758 -0.5160812 ]\n",
            " [-0.01904134  0.43321666  0.16926607  0.0910809   0.2972488  -0.12993245\n",
            "  -0.42241758 -0.5160812 ]]\n"
          ]
        }
      ],
      "source": [
        "# EXERCISE: Create an embedding column out of the categorical\n",
        "# vocabulary you just created (thal). Set the size of the \n",
        "# embedding to 8, by using the dimension parameter.\n",
        "\n",
        "thal_embedding = feature_column.embedding_column(thal, dimension=8)\n",
        "\n",
        "\n",
        "demo(thal_embedding)"
      ]
    },
    {
      "cell_type": "markdown",
      "metadata": {
        "id": "urFCAvTVRMpB"
      },
      "source": [
        "### Hashed Feature Columns\n",
        "\n",
        "Another way to represent a categorical column with a large number of values is to use a [categorical_column_with_hash_bucket](https://www.tensorflow.org/api_docs/python/tf/feature_column/categorical_column_with_hash_bucket). This feature column calculates a hash value of the input, then selects one of the `hash_bucket_size` buckets to encode a string. When using this column, you do not need to provide the vocabulary, and you can choose to make the number of hash buckets significantly smaller than the number of actual categories to save space."
      ]
    },
    {
      "cell_type": "code",
      "execution_count": 14,
      "metadata": {
        "id": "YHU_Aj2nRRDC"
      },
      "outputs": [
        {
          "name": "stdout",
          "output_type": "stream",
          "text": [
            "WARNING:tensorflow:From C:\\Users\\lenovo\\AppData\\Local\\Temp\\ipykernel_11148\\1649865997.py:3: categorical_column_with_hash_bucket (from tensorflow.python.feature_column.feature_column_v2) is deprecated and will be removed in a future version.\n",
            "Instructions for updating:\n",
            "Use Keras preprocessing layers instead, either directly or via the `tf.keras.utils.FeatureSpace` utility. Each of `tf.feature_column.*` has a functional equivalent in `tf.keras.layers` for feature preprocessing when training a Keras model.\n",
            "[[0. 0. 0. ... 0. 0. 0.]\n",
            " [0. 0. 0. ... 0. 0. 0.]\n",
            " [0. 0. 0. ... 0. 0. 0.]\n",
            " [0. 0. 0. ... 0. 0. 0.]\n",
            " [0. 0. 0. ... 0. 0. 0.]]\n"
          ]
        }
      ],
      "source": [
        "# EXERCISE: Create a hashed feature column with 'thal' as the key and \n",
        "# 1000 hash buckets.\n",
        "thal_hashed = feature_column.categorical_column_with_hash_bucket(\n",
        "    'thal', hash_bucket_size=1000\n",
        ")\n",
        "\n",
        "demo(feature_column.indicator_column(thal_hashed))"
      ]
    },
    {
      "cell_type": "markdown",
      "metadata": {
        "id": "fB94M27DRXtZ"
      },
      "source": [
        "### Crossed Feature Columns\n",
        "Combining features into a single feature, better known as [feature crosses](https://developers.google.com/machine-learning/glossary/#feature_cross), enables a model to learn separate weights for each combination of features. Here, we will create a new feature that is the cross of age and thal. Note that `crossed_column` does not build the full table of all possible combinations (which could be very large). Instead, it is backed by a `hashed_column`, so you can choose how large the table is."
      ]
    },
    {
      "cell_type": "code",
      "execution_count": 15,
      "metadata": {
        "id": "oaPVERd9Rep6"
      },
      "outputs": [
        {
          "name": "stdout",
          "output_type": "stream",
          "text": [
            "WARNING:tensorflow:From C:\\Users\\lenovo\\AppData\\Local\\Temp\\ipykernel_11148\\3772570344.py:3: crossed_column (from tensorflow.python.feature_column.feature_column_v2) is deprecated and will be removed in a future version.\n",
            "Instructions for updating:\n",
            "Use `tf.keras.layers.experimental.preprocessing.HashedCrossing` instead for feature crossing when preprocessing data to train a Keras model.\n",
            "[[0. 0. 0. ... 0. 0. 0.]\n",
            " [0. 0. 0. ... 0. 0. 0.]\n",
            " [0. 0. 0. ... 0. 0. 0.]\n",
            " [0. 0. 0. ... 0. 0. 0.]\n",
            " [0. 0. 0. ... 0. 0. 0.]]\n"
          ]
        }
      ],
      "source": [
        "# EXERCISE: Create a crossed column using the bucketized column (age_buckets),\n",
        "# the categorical vocabulary column (thal) previously created, and 1000 hash buckets.\n",
        "crossed_feature = feature_column.crossed_column(\n",
        "    [age_buckets, thal], hash_bucket_size=1000\n",
        ")\n",
        "\n",
        "demo(feature_column.indicator_column(crossed_feature))"
      ]
    },
    {
      "cell_type": "markdown",
      "metadata": {
        "id": "ypkI9zx6Rj1q"
      },
      "source": [
        "## Choose Which Columns to Use\n",
        "\n",
        "We have seen how to use several types of feature columns. Now we will use them to train a model. The goal of this exercise is to show you the complete code needed to work with feature columns. We have selected a few columns to train our model below arbitrarily.\n",
        "\n",
        "If your aim is to build an accurate model, try a larger dataset of your own, and think carefully about which features are the most meaningful to include, and how they should be represented."
      ]
    },
    {
      "cell_type": "code",
      "execution_count": 16,
      "metadata": {
        "id": "Eu8bJWmCScfC"
      },
      "outputs": [
        {
          "data": {
            "text/plain": [
              "age           int64\n",
              "sex           int64\n",
              "cp            int64\n",
              "trestbps      int64\n",
              "chol          int64\n",
              "fbs           int64\n",
              "restecg       int64\n",
              "thalach       int64\n",
              "exang         int64\n",
              "oldpeak     float64\n",
              "slope         int64\n",
              "ca            int64\n",
              "thal         object\n",
              "target        int64\n",
              "dtype: object"
            ]
          },
          "execution_count": 16,
          "metadata": {},
          "output_type": "execute_result"
        }
      ],
      "source": [
        "dataframe.dtypes"
      ]
    },
    {
      "cell_type": "markdown",
      "metadata": {
        "id": "2pV4tSI3SkuX"
      },
      "source": [
        "You can use the above list of column datatypes to map the appropriate feature column to every column in the dataframe."
      ]
    },
    {
      "cell_type": "code",
      "execution_count": 17,
      "metadata": {
        "id": "4PlLY7fORuzA"
      },
      "outputs": [],
      "source": [
        "# EXERCISE: Fill in the missing code below\n",
        "feature_columns = []\n",
        "\n",
        "# Numeric Cols.\n",
        "# Create a list of numeric columns. Use the following list of columns\n",
        "# that have a numeric datatype: ['age', 'trestbps', 'chol', 'thalach', 'oldpeak', 'slope', 'ca'].\n",
        "numeric_columns = ['age', 'trestbps', 'chol', 'thalach', 'oldpeak', 'slope', 'ca']\n",
        "\n",
        "for header in numeric_columns:\n",
        "    # Create a numeric feature column  out of the header.\n",
        "    numeric_feature_column = feature_column.numeric_column(header)\n",
        "    \n",
        "    feature_columns.append(numeric_feature_column)\n",
        "\n",
        "# Bucketized Cols.\n",
        "# Create a bucketized feature column out of the age column (numeric column)\n",
        "# that you've already created. Use the following boundaries:\n",
        "# [18, 25, 30, 35, 40, 45, 50, 55, 60, 65]\n",
        "age_buckets = feature_column.bucketized_column(age, boundaries=[18, 25, 30, 35, 40, 45, 50, 55, 60, 65])\n",
        "\n",
        "feature_columns.append(age_buckets)\n",
        "\n",
        "# Indicator Cols.\n",
        "# Create a categorical vocabulary column out of the categories\n",
        "# ['fixed', 'normal', 'reversible'] with the key specified as 'thal'.\n",
        "thal = feature_column.categorical_column_with_vocabulary_list(\n",
        "    'thal', ['fixed', 'normal', 'reversible']\n",
        ")\n",
        "\n",
        "# Create an indicator column out of the created thal categorical column\n",
        "thal_one_hot = feature_column.indicator_column(thal)\n",
        "\n",
        "feature_columns.append(thal_one_hot)\n",
        "\n",
        "# Embedding Cols.\n",
        "# Create an embedding column out of the categorical vocabulary you\n",
        "# just created (thal). Set the size of the embedding to 8, by using\n",
        "# the dimension parameter.\n",
        "thal_embedding = feature_column.embedding_column(thal, dimension=8)\n",
        "\n",
        "feature_columns.append(thal_embedding)\n",
        "\n",
        "# Crossed Cols.\n",
        "# Create a crossed column using the bucketized column (age_buckets),\n",
        "# the categorical vocabulary column (thal) previously created, and 1000 hash buckets.\n",
        "crossed_feature = feature_column.crossed_column([age_buckets, thal], hash_bucket_size=1000)\n",
        "\n",
        "# Create an indicator column out of the crossed column created above to one-hot encode it.\n",
        "crossed_feature = feature_column.indicator_column(crossed_feature)\n",
        "\n",
        "feature_columns.append(crossed_feature)"
      ]
    },
    {
      "cell_type": "markdown",
      "metadata": {
        "id": "M-nDp8krS_ts"
      },
      "source": [
        "### Create a Feature Layer\n",
        "\n",
        "Now that we have defined our feature columns, we will use a [DenseFeatures](https://www.tensorflow.org/versions/r2.0/api_docs/python/tf/keras/layers/DenseFeatures) layer to input them to our Keras model."
      ]
    },
    {
      "cell_type": "code",
      "execution_count": 18,
      "metadata": {
        "id": "6o-El1R2TGQP"
      },
      "outputs": [],
      "source": [
        "# EXERCISE: Create a Keras DenseFeatures layer and pass the feature_columns you just created.\n",
        "feature_layer = layers.DenseFeatures(feature_columns)"
      ]
    },
    {
      "cell_type": "markdown",
      "metadata": {
        "id": "8cf6vKfgTH0U"
      },
      "source": [
        "Earlier, we used a small batch size to demonstrate how feature columns worked. We create a new input pipeline with a larger batch size."
      ]
    },
    {
      "cell_type": "code",
      "execution_count": 19,
      "metadata": {
        "id": "gcemszoGSse_"
      },
      "outputs": [],
      "source": [
        "batch_size = 32\n",
        "train_ds = df_to_dataset(train, batch_size=batch_size)\n",
        "val_ds = df_to_dataset(val, shuffle=False, batch_size=batch_size)\n",
        "test_ds = df_to_dataset(test, shuffle=False, batch_size=batch_size)"
      ]
    },
    {
      "cell_type": "markdown",
      "metadata": {
        "id": "bBx4Xu0eTXWq"
      },
      "source": [
        "## Create, Compile, and Train the Model"
      ]
    },
    {
      "cell_type": "code",
      "execution_count": 20,
      "metadata": {
        "id": "_YJPPb3xTPeZ"
      },
      "outputs": [
        {
          "name": "stdout",
          "output_type": "stream",
          "text": [
            "WARNING:tensorflow:From c:\\Users\\lenovo\\AppData\\Local\\Programs\\Python\\Python311\\Lib\\site-packages\\keras\\src\\optimizers\\__init__.py:309: The name tf.train.Optimizer is deprecated. Please use tf.compat.v1.train.Optimizer instead.\n",
            "\n",
            "Epoch 1/100\n",
            "WARNING:tensorflow:From c:\\Users\\lenovo\\AppData\\Local\\Programs\\Python\\Python311\\Lib\\site-packages\\keras\\src\\utils\\tf_utils.py:492: The name tf.ragged.RaggedTensorValue is deprecated. Please use tf.compat.v1.ragged.RaggedTensorValue instead.\n",
            "\n",
            "WARNING:tensorflow:From c:\\Users\\lenovo\\AppData\\Local\\Programs\\Python\\Python311\\Lib\\site-packages\\keras\\src\\engine\\base_layer_utils.py:384: The name tf.executing_eagerly_outside_functions is deprecated. Please use tf.compat.v1.executing_eagerly_outside_functions instead.\n",
            "\n",
            "7/7 [==============================] - 2s 91ms/step - loss: 1.6884 - accuracy: 0.5492 - val_loss: 1.2197 - val_accuracy: 0.7551\n",
            "Epoch 2/100\n",
            "7/7 [==============================] - 0s 10ms/step - loss: 0.9549 - accuracy: 0.5751 - val_loss: 0.4796 - val_accuracy: 0.7551\n",
            "Epoch 3/100\n",
            "7/7 [==============================] - 0s 9ms/step - loss: 0.7289 - accuracy: 0.7461 - val_loss: 0.4686 - val_accuracy: 0.7755\n",
            "Epoch 4/100\n",
            "7/7 [==============================] - 0s 8ms/step - loss: 0.8714 - accuracy: 0.5389 - val_loss: 0.5129 - val_accuracy: 0.7755\n",
            "Epoch 5/100\n",
            "7/7 [==============================] - 0s 7ms/step - loss: 0.8837 - accuracy: 0.7358 - val_loss: 0.6116 - val_accuracy: 0.7551\n",
            "Epoch 6/100\n",
            "7/7 [==============================] - 0s 8ms/step - loss: 0.5712 - accuracy: 0.7150 - val_loss: 0.8862 - val_accuracy: 0.5714\n",
            "Epoch 7/100\n",
            "7/7 [==============================] - 0s 8ms/step - loss: 0.6845 - accuracy: 0.6788 - val_loss: 0.6116 - val_accuracy: 0.7551\n",
            "Epoch 8/100\n",
            "7/7 [==============================] - 0s 8ms/step - loss: 0.6606 - accuracy: 0.7513 - val_loss: 0.5649 - val_accuracy: 0.6939\n",
            "Epoch 9/100\n",
            "7/7 [==============================] - 0s 8ms/step - loss: 0.7251 - accuracy: 0.6736 - val_loss: 0.5663 - val_accuracy: 0.7551\n",
            "Epoch 10/100\n",
            "7/7 [==============================] - 0s 9ms/step - loss: 0.6838 - accuracy: 0.7358 - val_loss: 0.4620 - val_accuracy: 0.7959\n",
            "Epoch 11/100\n",
            "7/7 [==============================] - 0s 9ms/step - loss: 0.4714 - accuracy: 0.7824 - val_loss: 0.4728 - val_accuracy: 0.7959\n",
            "Epoch 12/100\n",
            "7/7 [==============================] - 0s 8ms/step - loss: 0.4662 - accuracy: 0.7876 - val_loss: 0.5384 - val_accuracy: 0.7143\n",
            "Epoch 13/100\n",
            "7/7 [==============================] - 0s 8ms/step - loss: 0.5466 - accuracy: 0.7720 - val_loss: 0.4878 - val_accuracy: 0.7551\n",
            "Epoch 14/100\n",
            "7/7 [==============================] - 0s 8ms/step - loss: 0.5929 - accuracy: 0.7409 - val_loss: 0.7656 - val_accuracy: 0.5714\n",
            "Epoch 15/100\n",
            "7/7 [==============================] - 0s 9ms/step - loss: 0.9268 - accuracy: 0.5233 - val_loss: 0.6987 - val_accuracy: 0.7551\n",
            "Epoch 16/100\n",
            "7/7 [==============================] - 0s 9ms/step - loss: 1.1046 - accuracy: 0.7306 - val_loss: 0.6943 - val_accuracy: 0.7551\n",
            "Epoch 17/100\n",
            "7/7 [==============================] - 0s 8ms/step - loss: 0.5726 - accuracy: 0.7513 - val_loss: 0.5855 - val_accuracy: 0.6735\n",
            "Epoch 18/100\n",
            "7/7 [==============================] - 0s 9ms/step - loss: 0.4827 - accuracy: 0.7617 - val_loss: 0.4965 - val_accuracy: 0.7551\n",
            "Epoch 19/100\n",
            "7/7 [==============================] - 0s 7ms/step - loss: 0.4871 - accuracy: 0.7824 - val_loss: 0.4594 - val_accuracy: 0.7959\n",
            "Epoch 20/100\n",
            "7/7 [==============================] - 0s 7ms/step - loss: 0.4447 - accuracy: 0.8031 - val_loss: 0.4072 - val_accuracy: 0.7755\n",
            "Epoch 21/100\n",
            "7/7 [==============================] - 0s 8ms/step - loss: 0.4252 - accuracy: 0.7927 - val_loss: 0.4094 - val_accuracy: 0.8163\n",
            "Epoch 22/100\n",
            "7/7 [==============================] - 0s 13ms/step - loss: 0.4178 - accuracy: 0.8031 - val_loss: 0.4213 - val_accuracy: 0.8163\n",
            "Epoch 23/100\n",
            "7/7 [==============================] - 0s 7ms/step - loss: 0.4917 - accuracy: 0.7565 - val_loss: 0.4515 - val_accuracy: 0.7551\n",
            "Epoch 24/100\n",
            "7/7 [==============================] - 0s 7ms/step - loss: 0.7189 - accuracy: 0.7254 - val_loss: 0.4127 - val_accuracy: 0.7755\n",
            "Epoch 25/100\n",
            "7/7 [==============================] - 0s 8ms/step - loss: 0.4462 - accuracy: 0.8083 - val_loss: 0.3945 - val_accuracy: 0.7347\n",
            "Epoch 26/100\n",
            "7/7 [==============================] - 0s 8ms/step - loss: 0.5875 - accuracy: 0.7409 - val_loss: 0.4058 - val_accuracy: 0.7347\n",
            "Epoch 27/100\n",
            "7/7 [==============================] - 0s 7ms/step - loss: 0.4418 - accuracy: 0.7772 - val_loss: 0.4641 - val_accuracy: 0.8163\n",
            "Epoch 28/100\n",
            "7/7 [==============================] - 0s 7ms/step - loss: 0.4078 - accuracy: 0.8290 - val_loss: 0.3971 - val_accuracy: 0.7755\n",
            "Epoch 29/100\n",
            "7/7 [==============================] - 0s 8ms/step - loss: 0.4189 - accuracy: 0.8031 - val_loss: 0.5610 - val_accuracy: 0.7143\n",
            "Epoch 30/100\n",
            "7/7 [==============================] - 0s 8ms/step - loss: 0.6013 - accuracy: 0.7150 - val_loss: 0.5081 - val_accuracy: 0.7755\n",
            "Epoch 31/100\n",
            "7/7 [==============================] - 0s 8ms/step - loss: 0.9546 - accuracy: 0.7358 - val_loss: 0.7831 - val_accuracy: 0.7551\n",
            "Epoch 32/100\n",
            "7/7 [==============================] - 0s 8ms/step - loss: 0.5423 - accuracy: 0.7461 - val_loss: 0.6448 - val_accuracy: 0.6327\n",
            "Epoch 33/100\n",
            "7/7 [==============================] - 0s 8ms/step - loss: 0.5316 - accuracy: 0.7772 - val_loss: 0.5146 - val_accuracy: 0.7755\n",
            "Epoch 34/100\n",
            "7/7 [==============================] - 0s 8ms/step - loss: 0.4717 - accuracy: 0.7461 - val_loss: 0.4623 - val_accuracy: 0.7551\n",
            "Epoch 35/100\n",
            "7/7 [==============================] - 0s 9ms/step - loss: 0.4111 - accuracy: 0.8031 - val_loss: 0.4168 - val_accuracy: 0.7551\n",
            "Epoch 36/100\n",
            "7/7 [==============================] - 0s 7ms/step - loss: 0.4134 - accuracy: 0.7772 - val_loss: 0.4355 - val_accuracy: 0.7551\n",
            "Epoch 37/100\n",
            "7/7 [==============================] - 0s 7ms/step - loss: 0.3881 - accuracy: 0.8446 - val_loss: 0.3864 - val_accuracy: 0.7959\n",
            "Epoch 38/100\n",
            "7/7 [==============================] - 0s 7ms/step - loss: 0.3978 - accuracy: 0.8083 - val_loss: 0.4048 - val_accuracy: 0.8163\n",
            "Epoch 39/100\n",
            "7/7 [==============================] - 0s 7ms/step - loss: 0.3789 - accuracy: 0.8342 - val_loss: 0.4396 - val_accuracy: 0.7959\n",
            "Epoch 40/100\n",
            "7/7 [==============================] - 0s 7ms/step - loss: 0.4537 - accuracy: 0.7876 - val_loss: 0.4349 - val_accuracy: 0.7755\n",
            "Epoch 41/100\n",
            "7/7 [==============================] - 0s 7ms/step - loss: 0.3927 - accuracy: 0.8135 - val_loss: 0.4021 - val_accuracy: 0.7959\n",
            "Epoch 42/100\n",
            "7/7 [==============================] - 0s 7ms/step - loss: 0.3897 - accuracy: 0.8031 - val_loss: 0.3873 - val_accuracy: 0.8163\n",
            "Epoch 43/100\n",
            "7/7 [==============================] - 0s 9ms/step - loss: 0.3973 - accuracy: 0.8238 - val_loss: 0.3763 - val_accuracy: 0.8163\n",
            "Epoch 44/100\n",
            "7/7 [==============================] - 0s 8ms/step - loss: 0.4087 - accuracy: 0.7979 - val_loss: 0.3647 - val_accuracy: 0.8163\n",
            "Epoch 45/100\n",
            "7/7 [==============================] - 0s 7ms/step - loss: 0.3854 - accuracy: 0.8238 - val_loss: 0.3847 - val_accuracy: 0.8163\n",
            "Epoch 46/100\n",
            "7/7 [==============================] - 0s 8ms/step - loss: 0.3692 - accuracy: 0.8342 - val_loss: 0.4420 - val_accuracy: 0.7959\n",
            "Epoch 47/100\n",
            "7/7 [==============================] - 0s 7ms/step - loss: 0.4202 - accuracy: 0.8031 - val_loss: 0.4309 - val_accuracy: 0.7959\n",
            "Epoch 48/100\n",
            "7/7 [==============================] - 0s 12ms/step - loss: 0.4868 - accuracy: 0.7876 - val_loss: 0.3677 - val_accuracy: 0.7959\n",
            "Epoch 49/100\n",
            "7/7 [==============================] - 0s 7ms/step - loss: 0.4640 - accuracy: 0.7617 - val_loss: 0.3665 - val_accuracy: 0.7551\n",
            "Epoch 50/100\n",
            "7/7 [==============================] - 0s 7ms/step - loss: 0.3768 - accuracy: 0.8394 - val_loss: 0.3601 - val_accuracy: 0.7959\n",
            "Epoch 51/100\n",
            "7/7 [==============================] - 0s 7ms/step - loss: 0.5831 - accuracy: 0.7461 - val_loss: 0.3607 - val_accuracy: 0.7959\n",
            "Epoch 52/100\n",
            "7/7 [==============================] - 0s 7ms/step - loss: 0.6707 - accuracy: 0.6684 - val_loss: 0.3994 - val_accuracy: 0.8367\n",
            "Epoch 53/100\n",
            "7/7 [==============================] - 0s 7ms/step - loss: 0.4147 - accuracy: 0.8031 - val_loss: 0.3588 - val_accuracy: 0.7755\n",
            "Epoch 54/100\n",
            "7/7 [==============================] - 0s 7ms/step - loss: 0.4732 - accuracy: 0.7720 - val_loss: 0.5295 - val_accuracy: 0.7551\n",
            "Epoch 55/100\n",
            "7/7 [==============================] - 0s 7ms/step - loss: 0.4029 - accuracy: 0.7876 - val_loss: 0.3635 - val_accuracy: 0.7347\n",
            "Epoch 56/100\n",
            "7/7 [==============================] - 0s 7ms/step - loss: 0.3861 - accuracy: 0.8187 - val_loss: 0.3795 - val_accuracy: 0.8367\n",
            "Epoch 57/100\n",
            "7/7 [==============================] - 0s 7ms/step - loss: 0.3584 - accuracy: 0.8290 - val_loss: 0.3609 - val_accuracy: 0.8163\n",
            "Epoch 58/100\n",
            "7/7 [==============================] - 0s 7ms/step - loss: 0.3568 - accuracy: 0.8238 - val_loss: 0.3564 - val_accuracy: 0.8163\n",
            "Epoch 59/100\n",
            "7/7 [==============================] - 0s 7ms/step - loss: 0.3553 - accuracy: 0.8187 - val_loss: 0.3443 - val_accuracy: 0.8163\n",
            "Epoch 60/100\n",
            "7/7 [==============================] - 0s 9ms/step - loss: 0.3948 - accuracy: 0.8290 - val_loss: 0.3509 - val_accuracy: 0.7959\n",
            "Epoch 61/100\n",
            "7/7 [==============================] - 0s 8ms/step - loss: 0.3834 - accuracy: 0.8187 - val_loss: 0.3539 - val_accuracy: 0.8776\n",
            "Epoch 62/100\n",
            "7/7 [==============================] - 0s 8ms/step - loss: 0.4089 - accuracy: 0.7824 - val_loss: 0.4507 - val_accuracy: 0.8367\n",
            "Epoch 63/100\n",
            "7/7 [==============================] - 0s 8ms/step - loss: 0.6332 - accuracy: 0.7098 - val_loss: 0.3492 - val_accuracy: 0.7755\n",
            "Epoch 64/100\n",
            "7/7 [==============================] - 0s 7ms/step - loss: 0.5530 - accuracy: 0.7513 - val_loss: 0.3608 - val_accuracy: 0.7551\n",
            "Epoch 65/100\n",
            "7/7 [==============================] - 0s 7ms/step - loss: 0.3781 - accuracy: 0.8342 - val_loss: 0.4624 - val_accuracy: 0.7959\n",
            "Epoch 66/100\n",
            "7/7 [==============================] - 0s 7ms/step - loss: 0.3906 - accuracy: 0.8238 - val_loss: 0.3520 - val_accuracy: 0.8367\n",
            "Epoch 67/100\n",
            "7/7 [==============================] - 0s 7ms/step - loss: 0.4121 - accuracy: 0.8135 - val_loss: 0.4649 - val_accuracy: 0.8163\n",
            "Epoch 68/100\n",
            "7/7 [==============================] - 0s 7ms/step - loss: 0.4042 - accuracy: 0.8031 - val_loss: 0.3510 - val_accuracy: 0.7959\n",
            "Epoch 69/100\n",
            "7/7 [==============================] - 0s 8ms/step - loss: 0.3478 - accuracy: 0.8497 - val_loss: 0.4046 - val_accuracy: 0.7959\n",
            "Epoch 70/100\n",
            "7/7 [==============================] - 0s 7ms/step - loss: 0.3500 - accuracy: 0.8238 - val_loss: 0.3465 - val_accuracy: 0.8163\n",
            "Epoch 71/100\n",
            "7/7 [==============================] - 0s 7ms/step - loss: 0.3610 - accuracy: 0.8238 - val_loss: 0.5688 - val_accuracy: 0.7551\n",
            "Epoch 72/100\n",
            "7/7 [==============================] - 0s 7ms/step - loss: 0.8182 - accuracy: 0.6218 - val_loss: 0.3417 - val_accuracy: 0.7551\n",
            "Epoch 73/100\n",
            "7/7 [==============================] - 0s 8ms/step - loss: 0.4180 - accuracy: 0.7876 - val_loss: 0.3553 - val_accuracy: 0.7755\n",
            "Epoch 74/100\n",
            "7/7 [==============================] - 0s 13ms/step - loss: 0.3681 - accuracy: 0.8238 - val_loss: 0.4038 - val_accuracy: 0.8571\n",
            "Epoch 75/100\n",
            "7/7 [==============================] - 0s 8ms/step - loss: 0.3692 - accuracy: 0.8238 - val_loss: 0.3706 - val_accuracy: 0.8367\n",
            "Epoch 76/100\n",
            "7/7 [==============================] - 0s 9ms/step - loss: 0.3793 - accuracy: 0.8135 - val_loss: 0.3478 - val_accuracy: 0.8367\n",
            "Epoch 77/100\n",
            "7/7 [==============================] - 0s 9ms/step - loss: 0.3804 - accuracy: 0.8290 - val_loss: 0.3589 - val_accuracy: 0.8163\n",
            "Epoch 78/100\n",
            "7/7 [==============================] - 0s 9ms/step - loss: 0.3459 - accuracy: 0.8446 - val_loss: 0.3671 - val_accuracy: 0.7959\n",
            "Epoch 79/100\n",
            "7/7 [==============================] - 0s 9ms/step - loss: 0.3479 - accuracy: 0.8497 - val_loss: 0.3495 - val_accuracy: 0.8163\n",
            "Epoch 80/100\n",
            "7/7 [==============================] - 0s 9ms/step - loss: 0.3398 - accuracy: 0.8342 - val_loss: 0.3623 - val_accuracy: 0.7959\n",
            "Epoch 81/100\n",
            "7/7 [==============================] - 0s 8ms/step - loss: 0.3410 - accuracy: 0.8497 - val_loss: 0.3353 - val_accuracy: 0.8163\n",
            "Epoch 82/100\n",
            "7/7 [==============================] - 0s 8ms/step - loss: 0.4219 - accuracy: 0.8135 - val_loss: 0.5070 - val_accuracy: 0.7959\n",
            "Epoch 83/100\n",
            "7/7 [==============================] - 0s 10ms/step - loss: 0.5186 - accuracy: 0.7876 - val_loss: 0.3384 - val_accuracy: 0.8367\n",
            "Epoch 84/100\n",
            "7/7 [==============================] - 0s 9ms/step - loss: 0.3729 - accuracy: 0.8446 - val_loss: 0.3382 - val_accuracy: 0.8367\n",
            "Epoch 85/100\n",
            "7/7 [==============================] - 0s 10ms/step - loss: 0.3726 - accuracy: 0.8342 - val_loss: 0.3567 - val_accuracy: 0.8163\n",
            "Epoch 86/100\n",
            "7/7 [==============================] - 0s 9ms/step - loss: 0.3411 - accuracy: 0.8342 - val_loss: 0.3712 - val_accuracy: 0.8163\n",
            "Epoch 87/100\n",
            "7/7 [==============================] - 0s 10ms/step - loss: 0.3340 - accuracy: 0.8497 - val_loss: 0.3402 - val_accuracy: 0.7959\n",
            "Epoch 88/100\n",
            "7/7 [==============================] - 0s 8ms/step - loss: 0.3377 - accuracy: 0.8497 - val_loss: 0.4086 - val_accuracy: 0.8163\n",
            "Epoch 89/100\n",
            "7/7 [==============================] - 0s 9ms/step - loss: 0.3625 - accuracy: 0.8135 - val_loss: 0.5222 - val_accuracy: 0.7551\n",
            "Epoch 90/100\n",
            "7/7 [==============================] - 0s 9ms/step - loss: 0.5344 - accuracy: 0.7824 - val_loss: 0.3510 - val_accuracy: 0.8163\n",
            "Epoch 91/100\n",
            "7/7 [==============================] - 0s 9ms/step - loss: 0.3833 - accuracy: 0.8187 - val_loss: 0.3319 - val_accuracy: 0.8367\n",
            "Epoch 92/100\n",
            "7/7 [==============================] - 0s 9ms/step - loss: 0.4245 - accuracy: 0.7772 - val_loss: 0.3790 - val_accuracy: 0.7755\n",
            "Epoch 93/100\n",
            "7/7 [==============================] - 0s 9ms/step - loss: 0.3411 - accuracy: 0.8549 - val_loss: 0.4867 - val_accuracy: 0.7755\n",
            "Epoch 94/100\n",
            "7/7 [==============================] - 0s 10ms/step - loss: 0.4112 - accuracy: 0.7979 - val_loss: 0.4064 - val_accuracy: 0.7959\n",
            "Epoch 95/100\n",
            "7/7 [==============================] - 0s 9ms/step - loss: 0.5827 - accuracy: 0.7565 - val_loss: 0.3689 - val_accuracy: 0.8367\n",
            "Epoch 96/100\n",
            "7/7 [==============================] - 0s 9ms/step - loss: 0.3700 - accuracy: 0.8342 - val_loss: 0.3454 - val_accuracy: 0.8367\n",
            "Epoch 97/100\n",
            "7/7 [==============================] - 0s 9ms/step - loss: 0.3355 - accuracy: 0.8342 - val_loss: 0.3764 - val_accuracy: 0.8163\n",
            "Epoch 98/100\n",
            "7/7 [==============================] - 0s 15ms/step - loss: 0.3833 - accuracy: 0.8290 - val_loss: 0.3323 - val_accuracy: 0.8367\n",
            "Epoch 99/100\n",
            "7/7 [==============================] - 0s 8ms/step - loss: 0.3713 - accuracy: 0.8238 - val_loss: 0.3230 - val_accuracy: 0.7959\n",
            "Epoch 100/100\n",
            "7/7 [==============================] - 0s 10ms/step - loss: 0.3416 - accuracy: 0.8187 - val_loss: 0.3296 - val_accuracy: 0.7755\n"
          ]
        },
        {
          "data": {
            "text/plain": [
              "<keras.src.callbacks.History at 0x1bb623703d0>"
            ]
          },
          "execution_count": 20,
          "metadata": {},
          "output_type": "execute_result"
        }
      ],
      "source": [
        "model = tf.keras.Sequential([\n",
        "        feature_layer,\n",
        "        layers.Dense(128, activation='relu'),\n",
        "        layers.Dense(128, activation='relu'),\n",
        "        layers.Dense(1, activation='sigmoid')\n",
        "])\n",
        "\n",
        "model.compile(optimizer='adam',\n",
        "              loss='binary_crossentropy',\n",
        "              metrics=['accuracy'])\n",
        "\n",
        "model.fit(train_ds,\n",
        "          validation_data=val_ds,\n",
        "          epochs=100)"
      ]
    },
    {
      "cell_type": "code",
      "execution_count": 21,
      "metadata": {
        "id": "GnFmMOW0Tcaa"
      },
      "outputs": [
        {
          "name": "stdout",
          "output_type": "stream",
          "text": [
            "2/2 [==============================] - 0s 7ms/step - loss: 0.3625 - accuracy: 0.8525\n",
            "Accuracy 0.8524590134620667\n"
          ]
        }
      ],
      "source": [
        "loss, accuracy = model.evaluate(test_ds)\n",
        "print(\"Accuracy\", accuracy)"
      ]
    },
    {
      "cell_type": "markdown",
      "metadata": {
        "id": "4CEPl277Dp7M"
      },
      "source": [
        "# Submission Instructions"
      ]
    },
    {
      "cell_type": "code",
      "execution_count": null,
      "metadata": {
        "id": "mPEjmg-9Dp7M"
      },
      "outputs": [],
      "source": [
        "# Now click the 'Submit Assignment' button above."
      ]
    },
    {
      "cell_type": "markdown",
      "metadata": {
        "id": "uKOmD3u0Dp7M"
      },
      "source": [
        "# When you're done or would like to take a break, please run the two cells below to save your work and close the Notebook. This frees up resources for your fellow learners."
      ]
    },
    {
      "cell_type": "code",
      "execution_count": null,
      "metadata": {
        "id": "zOAzNG8gDp7M"
      },
      "outputs": [],
      "source": [
        "%%javascript\n",
        "<!-- Save the notebook -->\n",
        "IPython.notebook.save_checkpoint();"
      ]
    },
    {
      "cell_type": "code",
      "execution_count": null,
      "metadata": {
        "id": "NH-rlfySDp7N"
      },
      "outputs": [],
      "source": [
        "%%javascript\n",
        "<!-- Shutdown and close the notebook -->\n",
        "window.onbeforeunload = null\n",
        "window.close();\n",
        "IPython.notebook.session.delete();"
      ]
    }
  ],
  "metadata": {
    "accelerator": "GPU",
    "colab": {
      "collapsed_sections": [],
      "include_colab_link": true,
      "name": "C3_W3_Assignment.ipynb",
      "provenance": []
    },
    "coursera": {
      "schema_names": [
        "tensorflow-datasets-w3"
      ]
    },
    "kernelspec": {
      "display_name": "Python 3",
      "language": "python",
      "name": "python3"
    },
    "language_info": {
      "codemirror_mode": {
        "name": "ipython",
        "version": 3
      },
      "file_extension": ".py",
      "mimetype": "text/x-python",
      "name": "python",
      "nbconvert_exporter": "python",
      "pygments_lexer": "ipython3",
      "version": "3.11.8"
    }
  },
  "nbformat": 4,
  "nbformat_minor": 0
}
