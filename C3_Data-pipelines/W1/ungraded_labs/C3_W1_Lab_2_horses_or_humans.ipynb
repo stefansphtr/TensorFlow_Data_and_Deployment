{
  "cells": [
    {
      "cell_type": "markdown",
      "metadata": {
        "colab_type": "text",
        "id": "view-in-github"
      },
      "source": [
        "<a href=\"https://colab.research.google.com/github/https-deeplearning-ai/tensorflow-2-public/blob/adding_C3/C3/W1/ungraded_labs/C3_W1_Lab_2_horses_or_humans.ipynb\" target=\"_parent\"><img src=\"https://colab.research.google.com/assets/colab-badge.svg\" alt=\"Open In Colab\"/></a>"
      ]
    },
    {
      "cell_type": "markdown",
      "metadata": {
        "id": "L00LL6u6ruSQ"
      },
      "source": [
        "# Horses or Humans"
      ]
    },
    {
      "cell_type": "code",
      "execution_count": null,
      "metadata": {
        "id": "zX4Kg8DUTKWO"
      },
      "outputs": [],
      "source": [
        "#@title Licensed under the Apache License, Version 2.0 (the \"License\");\n",
        "# you may not use this file except in compliance with the License.\n",
        "# You may obtain a copy of the License at\n",
        "#\n",
        "# https://www.apache.org/licenses/LICENSE-2.0\n",
        "#\n",
        "# Unless required by applicable law or agreed to in writing, software\n",
        "# distributed under the License is distributed on an \"AS IS\" BASIS,\n",
        "# WITHOUT WARRANTIES OR CONDITIONS OF ANY KIND, either express or implied.\n",
        "# See the License for the specific language governing permissions and\n",
        "# limitations under the License."
      ]
    },
    {
      "cell_type": "code",
      "execution_count": 1,
      "metadata": {
        "id": "VdbXGq4JPnlA"
      },
      "outputs": [
        {
          "name": "stdout",
          "output_type": "stream",
          "text": [
            "Collecting tensorflow_addons\n",
            "  Downloading tensorflow_addons-0.22.0-cp311-cp311-win_amd64.whl.metadata (1.8 kB)\n",
            "Collecting typeguard<3.0.0,>=2.7 (from tensorflow_addons)\n",
            "  Downloading typeguard-2.13.3-py3-none-any.whl.metadata (3.6 kB)\n",
            "Requirement already satisfied: packaging in c:\\users\\lenovo\\appdata\\local\\programs\\python\\python311\\lib\\site-packages (from tensorflow_addons) (23.2)\n",
            "Downloading tensorflow_addons-0.22.0-cp311-cp311-win_amd64.whl (719 kB)\n",
            "   ---------------------------------------- 0.0/719.8 kB ? eta -:--:--\n",
            "   - ------------------------------------- 20.5/719.8 kB 640.0 kB/s eta 0:00:02\n",
            "   --- ----------------------------------- 61.4/719.8 kB 812.7 kB/s eta 0:00:01\n",
            "   ---- ---------------------------------- 81.9/719.8 kB 762.6 kB/s eta 0:00:01\n",
            "   ----- -------------------------------- 112.6/719.8 kB 656.4 kB/s eta 0:00:01\n",
            "   ----- -------------------------------- 112.6/719.8 kB 656.4 kB/s eta 0:00:01\n",
            "   ----- -------------------------------- 112.6/719.8 kB 656.4 kB/s eta 0:00:01\n",
            "   ------- ------------------------------ 143.4/719.8 kB 425.3 kB/s eta 0:00:02\n",
            "   ---------- --------------------------- 204.8/719.8 kB 565.6 kB/s eta 0:00:01\n",
            "   ------------ ------------------------- 245.8/719.8 kB 602.4 kB/s eta 0:00:01\n",
            "   ------------- ------------------------ 256.0/719.8 kB 605.3 kB/s eta 0:00:01\n",
            "   -------------- ----------------------- 276.5/719.8 kB 567.7 kB/s eta 0:00:01\n",
            "   --------------- ---------------------- 286.7/719.8 kB 505.4 kB/s eta 0:00:01\n",
            "   ------------------ ------------------- 358.4/719.8 kB 602.4 kB/s eta 0:00:01\n",
            "   -------------------- ----------------- 389.1/719.8 kB 606.2 kB/s eta 0:00:01\n",
            "   --------------------- ---------------- 409.6/719.8 kB 623.0 kB/s eta 0:00:01\n",
            "   ----------------------- -------------- 440.3/719.8 kB 611.8 kB/s eta 0:00:01\n",
            "   ----------------------- -------------- 440.3/719.8 kB 611.8 kB/s eta 0:00:01\n",
            "   --------------------------- ---------- 522.2/719.8 kB 629.8 kB/s eta 0:00:01\n",
            "   ----------------------------- -------- 553.0/719.8 kB 631.1 kB/s eta 0:00:01\n",
            "   ------------------------------- ------ 604.2/719.8 kB 655.5 kB/s eta 0:00:01\n",
            "   ---------------------------------- --- 655.4/719.8 kB 665.8 kB/s eta 0:00:01\n",
            "   ------------------------------------ - 686.1/719.8 kB 675.8 kB/s eta 0:00:01\n",
            "   -------------------------------------- 719.8/719.8 kB 667.5 kB/s eta 0:00:00\n",
            "Downloading typeguard-2.13.3-py3-none-any.whl (17 kB)\n",
            "Installing collected packages: typeguard, tensorflow_addons\n",
            "Successfully installed tensorflow_addons-0.22.0 typeguard-2.13.3\n"
          ]
        }
      ],
      "source": [
        "!pip install tensorflow_addons"
      ]
    },
    {
      "cell_type": "code",
      "execution_count": 2,
      "metadata": {
        "id": "ioLbtB3uGKPX"
      },
      "outputs": [],
      "source": [
        "try:\n",
        "  # %tensorflow_version only exists in Colab.\n",
        "  %tensorflow_version 2.x\n",
        "except Exception:\n",
        "  pass"
      ]
    },
    {
      "cell_type": "code",
      "execution_count": 3,
      "metadata": {
        "id": "iSq4t32ZHHpt"
      },
      "outputs": [
        {
          "name": "stdout",
          "output_type": "stream",
          "text": [
            "WARNING:tensorflow:From c:\\Users\\lenovo\\AppData\\Local\\Programs\\Python\\Python311\\Lib\\site-packages\\keras\\src\\losses.py:2976: The name tf.losses.sparse_softmax_cross_entropy is deprecated. Please use tf.compat.v1.losses.sparse_softmax_cross_entropy instead.\n",
            "\n"
          ]
        },
        {
          "name": "stderr",
          "output_type": "stream",
          "text": [
            "c:\\Users\\lenovo\\AppData\\Local\\Programs\\Python\\Python311\\Lib\\site-packages\\tensorflow_addons\\utils\\tfa_eol_msg.py:23: UserWarning: \n",
            "\n",
            "TensorFlow Addons (TFA) has ended development and introduction of new features.\n",
            "TFA has entered a minimal maintenance and release mode until a planned end of life in May 2024.\n",
            "Please modify downstream libraries to take dependencies from other repositories in our TensorFlow community (e.g. Keras, Keras-CV, and Keras-NLP). \n",
            "\n",
            "For more information see: https://github.com/tensorflow/addons/issues/2807 \n",
            "\n",
            "  warnings.warn(\n",
            "c:\\Users\\lenovo\\AppData\\Local\\Programs\\Python\\Python311\\Lib\\site-packages\\tensorflow_addons\\utils\\ensure_tf_install.py:53: UserWarning: Tensorflow Addons supports using Python ops for all Tensorflow versions above or equal to 2.12.0 and strictly below 2.15.0 (nightly versions are not supported). \n",
            " The versions of TensorFlow you are currently using is 2.15.0 and is not supported. \n",
            "Some things might work, some things might not.\n",
            "If you were to encounter a bug, do not file an issue.\n",
            "If you want to make sure you're using a tested and supported configuration, either change the TensorFlow version or the TensorFlow Addons's version. \n",
            "You can find the compatibility matrix in TensorFlow Addon's readme:\n",
            "https://github.com/tensorflow/addons\n",
            "  warnings.warn(\n"
          ]
        },
        {
          "name": "stdout",
          "output_type": "stream",
          "text": [
            "\u001b[1mDownloading and preparing dataset Unknown size (download: Unknown size, generated: Unknown size, total: Unknown size) to C:\\Users\\lenovo\\tensorflow_datasets\\horses_or_humans\\3.0.0...\u001b[0m\n"
          ]
        },
        {
          "data": {
            "application/vnd.jupyter.widget-view+json": {
              "model_id": "9d55695ff90248bb94a8ec985537d73d",
              "version_major": 2,
              "version_minor": 0
            },
            "text/plain": [
              "Dl Completed...: 0 url [00:00, ? url/s]"
            ]
          },
          "metadata": {},
          "output_type": "display_data"
        },
        {
          "data": {
            "application/vnd.jupyter.widget-view+json": {
              "model_id": "9c2a1e90da0b4d98a668532b340f42b7",
              "version_major": 2,
              "version_minor": 0
            },
            "text/plain": [
              "Dl Size...: 0 MiB [00:00, ? MiB/s]"
            ]
          },
          "metadata": {},
          "output_type": "display_data"
        },
        {
          "data": {
            "application/vnd.jupyter.widget-view+json": {
              "model_id": "e0dff2da2d4f41af9711032542236a21",
              "version_major": 2,
              "version_minor": 0
            },
            "text/plain": [
              "Generating splits...:   0%|          | 0/2 [00:00<?, ? splits/s]"
            ]
          },
          "metadata": {},
          "output_type": "display_data"
        },
        {
          "data": {
            "application/vnd.jupyter.widget-view+json": {
              "model_id": "d70085815af54dad81abf30ea3e16317",
              "version_major": 2,
              "version_minor": 0
            },
            "text/plain": [
              "Generating train examples...: 0 examples [00:00, ? examples/s]"
            ]
          },
          "metadata": {},
          "output_type": "display_data"
        },
        {
          "data": {
            "application/vnd.jupyter.widget-view+json": {
              "model_id": "22429001c9e040bdbaec31a088f924dd",
              "version_major": 2,
              "version_minor": 0
            },
            "text/plain": [
              "Shuffling C:\\Users\\lenovo\\tensorflow_datasets\\horses_or_humans\\3.0.0.incompleteWT3ABC\\horses_or_humans-train.t…"
            ]
          },
          "metadata": {},
          "output_type": "display_data"
        },
        {
          "data": {
            "application/vnd.jupyter.widget-view+json": {
              "model_id": "f47486e26beb4846a0f733d7a460ab74",
              "version_major": 2,
              "version_minor": 0
            },
            "text/plain": [
              "Generating test examples...: 0 examples [00:00, ? examples/s]"
            ]
          },
          "metadata": {},
          "output_type": "display_data"
        },
        {
          "data": {
            "application/vnd.jupyter.widget-view+json": {
              "model_id": "cf23608cfb484b0ebe8afd253c0e0e00",
              "version_major": 2,
              "version_minor": 0
            },
            "text/plain": [
              "Shuffling C:\\Users\\lenovo\\tensorflow_datasets\\horses_or_humans\\3.0.0.incompleteWT3ABC\\horses_or_humans-test.tf…"
            ]
          },
          "metadata": {},
          "output_type": "display_data"
        },
        {
          "name": "stdout",
          "output_type": "stream",
          "text": [
            "\u001b[1mDataset horses_or_humans downloaded and prepared to C:\\Users\\lenovo\\tensorflow_datasets\\horses_or_humans\\3.0.0. Subsequent calls will reuse this data.\u001b[0m\n"
          ]
        }
      ],
      "source": [
        "import tensorflow as tf\n",
        "import tensorflow_datasets as tfds\n",
        "import tensorflow_addons as tfa\n",
        "\n",
        "data = tfds.load('horses_or_humans', split='train', as_supervised=True)\n",
        "val_data = tfds.load('horses_or_humans', split='test', as_supervised=True)"
      ]
    },
    {
      "cell_type": "code",
      "execution_count": 10,
      "metadata": {
        "id": "Ni1_t7H0PVWI"
      },
      "outputs": [],
      "source": [
        "train_batches = data.shuffle(100).batch(32)\n",
        "validation_batches = val_data.batch(32)\n",
        "\n",
        "model = tf.keras.models.Sequential([\n",
        "    tf.keras.layers.Conv2D(16, (3,3), activation='relu', \n",
        "                                      input_shape=(300, 300, 3)),\n",
        "    tf.keras.layers.MaxPooling2D(2, 2),\n",
        "    tf.keras.layers.Conv2D(32, (3,3), activation='relu'),\n",
        "    tf.keras.layers.MaxPooling2D(2,2),\n",
        "    tf.keras.layers.Conv2D(64, (3,3), activation='relu'),\n",
        "    tf.keras.layers.MaxPooling2D(2,2),\n",
        "    tf.keras.layers.Conv2D(64, (3,3), activation='relu'),\n",
        "    tf.keras.layers.MaxPooling2D(2,2),\n",
        "    tf.keras.layers.Conv2D(64, (3,3), activation='relu'),\n",
        "    tf.keras.layers.MaxPooling2D(2,2),\n",
        "    tf.keras.layers.Flatten(),\n",
        "    tf.keras.layers.Dense(512, activation='relu'),\n",
        "    tf.keras.layers.Dropout(0.25),\n",
        "    tf.keras.layers.Dense(1, activation='sigmoid')\n",
        "])\n",
        "\n",
        "\n",
        "model.compile(optimizer='Adam', loss='binary_crossentropy', metrics=['accuracy'])\n",
        "\n"
      ]
    },
    {
      "cell_type": "code",
      "execution_count": 11,
      "metadata": {
        "id": "Di3CWkVSPVWJ"
      },
      "outputs": [
        {
          "name": "stdout",
          "output_type": "stream",
          "text": [
            "Epoch 1/10\n",
            "33/33 [==============================] - 13s 359ms/step - loss: 10.9619 - accuracy: 0.6670 - val_loss: 0.3283 - val_accuracy: 0.7812\n",
            "Epoch 2/10\n",
            "33/33 [==============================] - 15s 458ms/step - loss: 0.1218 - accuracy: 0.9630 - val_loss: 0.9448 - val_accuracy: 0.7812\n",
            "Epoch 3/10\n",
            "33/33 [==============================] - 15s 465ms/step - loss: 0.0486 - accuracy: 0.9815 - val_loss: 0.2886 - val_accuracy: 0.9375\n",
            "Epoch 4/10\n",
            "33/33 [==============================] - 16s 493ms/step - loss: 0.0221 - accuracy: 0.9951 - val_loss: 0.5118 - val_accuracy: 0.8750\n",
            "Epoch 5/10\n",
            "33/33 [==============================] - 18s 539ms/step - loss: 0.0156 - accuracy: 0.9942 - val_loss: 1.6200 - val_accuracy: 0.8438\n",
            "Epoch 6/10\n",
            "33/33 [==============================] - 15s 455ms/step - loss: 0.4018 - accuracy: 0.9075 - val_loss: 0.1873 - val_accuracy: 0.9375\n",
            "Epoch 7/10\n",
            "33/33 [==============================] - 16s 475ms/step - loss: 0.0931 - accuracy: 0.9737 - val_loss: 0.3268 - val_accuracy: 0.9062\n",
            "Epoch 8/10\n",
            "33/33 [==============================] - 15s 461ms/step - loss: 0.0377 - accuracy: 0.9854 - val_loss: 1.7585 - val_accuracy: 0.7812\n",
            "Epoch 9/10\n",
            "33/33 [==============================] - 16s 491ms/step - loss: 0.0072 - accuracy: 0.9981 - val_loss: 0.6981 - val_accuracy: 0.8750\n",
            "Epoch 10/10\n",
            "33/33 [==============================] - 20s 601ms/step - loss: 0.0129 - accuracy: 0.9951 - val_loss: 0.0548 - val_accuracy: 0.9688\n"
          ]
        }
      ],
      "source": [
        "history = model.fit(train_batches, epochs=10, validation_data=validation_batches, validation_steps=1)"
      ]
    },
    {
      "cell_type": "code",
      "execution_count": 16,
      "metadata": {
        "id": "HBOt70M1PVWJ"
      },
      "outputs": [
        {
          "name": "stdout",
          "output_type": "stream",
          "text": [
            "Loss = 0.0129\n",
            "Validation Loss = 0.0548\n",
            "Accuracy = 0.9951\n",
            "Validation Accuracy = 0.9688\n"
          ]
        }
      ],
      "source": [
        "# Get the last loss, accuracy, validation loss and validation accuracy\n",
        "loss, accuracy, val_loss, val_accuracy = history.history.values()\n",
        "\n",
        "print(f\"Loss = {loss[-1]:.4f}\")\n",
        "print(f\"Validation Loss = {val_loss[-1]:.4f}\")\n",
        "print(f\"Accuracy = {accuracy[-1]:.4f}\")\n",
        "print(f\"Validation Accuracy = {val_accuracy[-1]:.4f}\")"
      ]
    }
  ],
  "metadata": {
    "accelerator": "GPU",
    "colab": {
      "collapsed_sections": [],
      "include_colab_link": true,
      "name": "C3_W1_Lab_2_horses_or_humans.ipynb",
      "provenance": [],
      "toc_visible": true
    },
    "kernelspec": {
      "display_name": "Python 3",
      "language": "python",
      "name": "python3"
    },
    "language_info": {
      "codemirror_mode": {
        "name": "ipython",
        "version": 3
      },
      "file_extension": ".py",
      "mimetype": "text/x-python",
      "name": "python",
      "nbconvert_exporter": "python",
      "pygments_lexer": "ipython3",
      "version": "3.11.8"
    }
  },
  "nbformat": 4,
  "nbformat_minor": 0
}
